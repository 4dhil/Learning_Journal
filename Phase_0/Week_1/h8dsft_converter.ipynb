{
 "cells": [
  {
   "cell_type": "markdown",
   "metadata": {},
   "source": [
    "# Converter"
   ]
  },
  {
   "cell_type": "markdown",
   "metadata": {},
   "source": [
    "1. Buatlah sebuah function yang dapat mengkonversi suhu dari kelvin ke celcius, dan celcius ke kelvin."
   ]
  },
  {
   "cell_type": "code",
   "execution_count": 11,
   "metadata": {},
   "outputs": [
    {
     "name": "stdout",
     "output_type": "stream",
     "text": [
      "c = 0.0  °C\n"
     ]
    }
   ],
   "source": [
    "#k = kelvin, c = celcius\n",
    "\n",
    "def k_to_c(k):\n",
    "    ''' function to convert kelvin to celcius'''\n",
    "    c = k - 273.15\n",
    "    return c\n",
    "\n",
    "print(\"c =\", k_to_c(273.15), \" \\N{DEGREE SIGN}C\")"
   ]
  },
  {
   "cell_type": "code",
   "execution_count": 12,
   "metadata": {},
   "outputs": [
    {
     "name": "stdout",
     "output_type": "stream",
     "text": [
      "k = 0.0  K\n"
     ]
    }
   ],
   "source": [
    "#k = kelvin, c = celcius\n",
    "\n",
    "def c_to_k(c):\n",
    "    ''' function to convert celcius to kelvin'''\n",
    "    k = c + 273.15\n",
    "    return k\n",
    "\n",
    "print(\"k =\", c_to_k(-273.15), \" K\")"
   ]
  },
  {
   "cell_type": "markdown",
   "metadata": {},
   "source": [
    "2. Buatlah sebuah function yang dapat mengkonversi suhu ke fahrenheit. Tambahkan parameter untuk memastikan bahwa argumen yang dimasukan adalah celcius atau kelvin. Panggil function yang pertama jika diperlukan."
   ]
  },
  {
   "cell_type": "code",
   "execution_count": 29,
   "metadata": {},
   "outputs": [
    {
     "name": "stdout",
     "output_type": "stream",
     "text": [
      "f = 41.0  °F\n",
      "f = 386.33  °F\n"
     ]
    }
   ],
   "source": [
    "def temp(x): # x can be in kelvin or in celcius\n",
    "    y = x * 1.8\n",
    "    return y\n",
    "\n",
    "def c_to_f(y): \n",
    "    ''' function to convert celcius to fahrenheit \n",
    "    by using the previous function'''\n",
    "    f = y + 32\n",
    "    return f\n",
    "print(\"f =\", c_to_f(temp(5)), \" \\N{DEGREE SIGN}F\")\n",
    "\n",
    "def k_to_f(y): #k to f \n",
    "    ''' function to convert kelvin to fahrenheit\n",
    "    by using the previous function'''\n",
    "    f = y - 459.67\n",
    "    return f\n",
    "print(\"f =\", k_to_f(temp(470)), \" \\N{DEGREE SIGN}F\")\n"
   ]
  },
  {
   "cell_type": "markdown",
   "metadata": {},
   "source": [
    "3. Buatlah sebuah function yang dapat mengkonversi suhu dari fahrenheit. Berikan argumen untuk memastikan bahwa outputnya dalah celcius atau kelvin."
   ]
  },
  {
   "cell_type": "code",
   "execution_count": 36,
   "metadata": {},
   "outputs": [
    {
     "name": "stdout",
     "output_type": "stream",
     "text": [
      "c = 5.0  °C\n"
     ]
    }
   ],
   "source": [
    "#f = fahrenheit, k = kelvin, c = celcius\n",
    "def f_to_c(f):\n",
    "    c = (f -32) /1.8\n",
    "    return c\n",
    "\n",
    "print(\"c =\", f_to_c(41), \" \\N{DEGREE SIGN}C\" )\n",
    "\n"
   ]
  },
  {
   "cell_type": "code",
   "execution_count": 38,
   "metadata": {},
   "outputs": [
    {
     "name": "stdout",
     "output_type": "stream",
     "text": [
      "k = 470.0  K\n"
     ]
    }
   ],
   "source": [
    "#f = fahrenheit, k = kelvin, c = celcius\n",
    "def f_to_k(f):\n",
    "    k = (f + 459.67) /1.8\n",
    "    return k\n",
    "\n",
    "print(\"k =\", f_to_k(386.33), \" K\" )"
   ]
  }
 ],
 "metadata": {
  "interpreter": {
   "hash": "5e5ed00859d049be25764bd03284114021acb233c7fc9346aaafb5c9d5d58164"
  },
  "kernelspec": {
   "display_name": "Python 3.9.7 ('base')",
   "language": "python",
   "name": "python3"
  },
  "language_info": {
   "codemirror_mode": {
    "name": "ipython",
    "version": 3
   },
   "file_extension": ".py",
   "mimetype": "text/x-python",
   "name": "python",
   "nbconvert_exporter": "python",
   "pygments_lexer": "ipython3",
   "version": "3.9.7"
  },
  "orig_nbformat": 4
 },
 "nbformat": 4,
 "nbformat_minor": 2
}
