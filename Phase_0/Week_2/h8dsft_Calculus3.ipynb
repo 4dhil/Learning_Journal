{
 "cells": [
  {
   "cell_type": "markdown",
   "metadata": {},
   "source": [
    "## Non graded challenge 7"
   ]
  },
  {
   "cell_type": "markdown",
   "metadata": {},
   "source": [
    "**Secara simbolik**"
   ]
  },
  {
   "cell_type": "code",
   "execution_count": 1,
   "metadata": {},
   "outputs": [],
   "source": [
    "import sympy as sy"
   ]
  },
  {
   "cell_type": "code",
   "execution_count": 7,
   "metadata": {},
   "outputs": [],
   "source": [
    "x = sy.Symbol('x')\n",
    "y = sy.Symbol('y')"
   ]
  },
  {
   "cell_type": "code",
   "execution_count": 8,
   "metadata": {},
   "outputs": [
    {
     "data": {
      "text/latex": [
       "$\\displaystyle 3 x + 4 y - 5$"
      ],
      "text/plain": [
       "3*x + 4*y - 5"
      ]
     },
     "execution_count": 8,
     "metadata": {},
     "output_type": "execute_result"
    }
   ],
   "source": [
    "f = 3*x + 4*y - 5\n",
    "f"
   ]
  },
  {
   "cell_type": "code",
   "execution_count": 9,
   "metadata": {},
   "outputs": [
    {
     "data": {
      "text/latex": [
       "$\\displaystyle 3$"
      ],
      "text/plain": [
       "3"
      ]
     },
     "execution_count": 9,
     "metadata": {},
     "output_type": "execute_result"
    }
   ],
   "source": [
    "sy.diff(f, x)"
   ]
  },
  {
   "cell_type": "code",
   "execution_count": 10,
   "metadata": {},
   "outputs": [
    {
     "data": {
      "text/latex": [
       "$\\displaystyle 4$"
      ],
      "text/plain": [
       "4"
      ]
     },
     "execution_count": 10,
     "metadata": {},
     "output_type": "execute_result"
    }
   ],
   "source": [
    "sy.diff(f, y)"
   ]
  },
  {
   "cell_type": "code",
   "execution_count": 11,
   "metadata": {},
   "outputs": [
    {
     "data": {
      "text/latex": [
       "$\\displaystyle \\left[\\begin{matrix}3 & 4\\end{matrix}\\right]$"
      ],
      "text/plain": [
       "[3, 4]"
      ]
     },
     "execution_count": 11,
     "metadata": {},
     "output_type": "execute_result"
    }
   ],
   "source": [
    "from sympy.tensor.array import derive_by_array\n",
    "grad = derive_by_array(f, (x,y))\n",
    "grad"
   ]
  },
  {
   "cell_type": "markdown",
   "metadata": {},
   "source": [
    "**Secara numerik**"
   ]
  },
  {
   "cell_type": "code",
   "execution_count": 12,
   "metadata": {},
   "outputs": [],
   "source": [
    "import numpy as np"
   ]
  },
  {
   "cell_type": "code",
   "execution_count": 13,
   "metadata": {},
   "outputs": [],
   "source": [
    "def f(x, y):\n",
    "    return 3*x + 4*y - 5\n",
    "\n",
    "x=np.linspace(1,10)\n",
    "y=np.linspace(1,10)\n",
    "\n",
    "z=np.array( [[f(i,j) for i in x] for j in y] )\n",
    "\n",
    "dx,dy=np.gradient(z)"
   ]
  },
  {
   "cell_type": "code",
   "execution_count": 14,
   "metadata": {},
   "outputs": [
    {
     "data": {
      "text/plain": [
       "array([[ 2.        ,  2.55102041,  3.10204082, ..., 27.89795918,\n",
       "        28.44897959, 29.        ],\n",
       "       [ 2.73469388,  3.28571429,  3.83673469, ..., 28.63265306,\n",
       "        29.18367347, 29.73469388],\n",
       "       [ 3.46938776,  4.02040816,  4.57142857, ..., 29.36734694,\n",
       "        29.91836735, 30.46938776],\n",
       "       ...,\n",
       "       [36.53061224, 37.08163265, 37.63265306, ..., 62.42857143,\n",
       "        62.97959184, 63.53061224],\n",
       "       [37.26530612, 37.81632653, 38.36734694, ..., 63.16326531,\n",
       "        63.71428571, 64.26530612],\n",
       "       [38.        , 38.55102041, 39.10204082, ..., 63.89795918,\n",
       "        64.44897959, 65.        ]])"
      ]
     },
     "execution_count": 14,
     "metadata": {},
     "output_type": "execute_result"
    }
   ],
   "source": [
    "z"
   ]
  },
  {
   "cell_type": "code",
   "execution_count": null,
   "metadata": {},
   "outputs": [],
   "source": []
  }
 ],
 "metadata": {
  "interpreter": {
   "hash": "5e5ed00859d049be25764bd03284114021acb233c7fc9346aaafb5c9d5d58164"
  },
  "kernelspec": {
   "display_name": "Python 3.9.7 ('base')",
   "language": "python",
   "name": "python3"
  },
  "language_info": {
   "codemirror_mode": {
    "name": "ipython",
    "version": 3
   },
   "file_extension": ".py",
   "mimetype": "text/x-python",
   "name": "python",
   "nbconvert_exporter": "python",
   "pygments_lexer": "ipython3",
   "version": "3.9.7"
  },
  "orig_nbformat": 4
 },
 "nbformat": 4,
 "nbformat_minor": 2
}
