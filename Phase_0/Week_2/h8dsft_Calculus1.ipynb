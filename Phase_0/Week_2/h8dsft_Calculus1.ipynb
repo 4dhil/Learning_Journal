{
 "cells": [
  {
   "cell_type": "markdown",
   "metadata": {},
   "source": [
    "## Non graded challenge 7"
   ]
  },
  {
   "cell_type": "markdown",
   "metadata": {},
   "source": [
    "## SOAL 1\n",
    "**Turunan secara simbolik**"
   ]
  },
  {
   "cell_type": "code",
   "execution_count": 1,
   "metadata": {},
   "outputs": [],
   "source": [
    "import sympy as sy"
   ]
  },
  {
   "cell_type": "code",
   "execution_count": 5,
   "metadata": {},
   "outputs": [
    {
     "data": {
      "text/latex": [
       "$\\displaystyle x$"
      ],
      "text/plain": [
       "x"
      ]
     },
     "execution_count": 5,
     "metadata": {},
     "output_type": "execute_result"
    }
   ],
   "source": [
    "x = sy.Symbol('x')\n",
    "x"
   ]
  },
  {
   "cell_type": "code",
   "execution_count": 7,
   "metadata": {},
   "outputs": [
    {
     "data": {
      "text/latex": [
       "$\\displaystyle x^{2} + 2 x + 1$"
      ],
      "text/plain": [
       "x**2 + 2*x + 1"
      ]
     },
     "execution_count": 7,
     "metadata": {},
     "output_type": "execute_result"
    }
   ],
   "source": [
    "𝑦1 = x**2+ 2*x+ 1\n",
    "y1"
   ]
  },
  {
   "cell_type": "code",
   "execution_count": 8,
   "metadata": {},
   "outputs": [
    {
     "data": {
      "text/latex": [
       "$\\displaystyle 2 x + 2$"
      ],
      "text/plain": [
       "2*x + 2"
      ]
     },
     "execution_count": 8,
     "metadata": {},
     "output_type": "execute_result"
    }
   ],
   "source": [
    "sy.diff(y1)"
   ]
  },
  {
   "cell_type": "code",
   "execution_count": 9,
   "metadata": {},
   "outputs": [
    {
     "data": {
      "text/latex": [
       "$\\displaystyle 4 x^{3} - 3 x^{2} + 2 x - 1$"
      ],
      "text/plain": [
       "4*x**3 - 3*x**2 + 2*x - 1"
      ]
     },
     "execution_count": 9,
     "metadata": {},
     "output_type": "execute_result"
    }
   ],
   "source": [
    "y2 = 4*x**3 - 3*x**2 + 2*x -1\n",
    "y2"
   ]
  },
  {
   "cell_type": "code",
   "execution_count": 10,
   "metadata": {},
   "outputs": [
    {
     "data": {
      "text/latex": [
       "$\\displaystyle 12 x^{2} - 6 x + 2$"
      ],
      "text/plain": [
       "12*x**2 - 6*x + 2"
      ]
     },
     "execution_count": 10,
     "metadata": {},
     "output_type": "execute_result"
    }
   ],
   "source": [
    "sy.diff(y2)"
   ]
  },
  {
   "cell_type": "markdown",
   "metadata": {},
   "source": [
    "**Turunan secara numerik**"
   ]
  },
  {
   "cell_type": "code",
   "execution_count": 11,
   "metadata": {},
   "outputs": [],
   "source": [
    "import numpy as np"
   ]
  },
  {
   "cell_type": "code",
   "execution_count": 12,
   "metadata": {},
   "outputs": [],
   "source": [
    "x = np.linspace(-100, 100)\n",
    "y1 = x**2+ 2*x+ 1"
   ]
  },
  {
   "cell_type": "code",
   "execution_count": 16,
   "metadata": {},
   "outputs": [
    {
     "data": {
      "text/plain": [
       "array([-193.91836735, -189.83673469, -181.67346939, -173.51020408,\n",
       "       -165.34693878, -157.18367347, -149.02040816, -140.85714286,\n",
       "       -132.69387755, -124.53061224, -116.36734694, -108.20408163,\n",
       "       -100.04081633,  -91.87755102,  -83.71428571,  -75.55102041,\n",
       "        -67.3877551 ,  -59.2244898 ,  -51.06122449,  -42.89795918,\n",
       "        -34.73469388,  -26.57142857,  -18.40816327,  -10.24489796,\n",
       "         -2.08163265,    6.08163265,   14.24489796,   22.40816327,\n",
       "         30.57142857,   38.73469388,   46.89795918,   55.06122449,\n",
       "         63.2244898 ,   71.3877551 ,   79.55102041,   87.71428571,\n",
       "         95.87755102,  104.04081633,  112.20408163,  120.36734694,\n",
       "        128.53061224,  136.69387755,  144.85714286,  153.02040816,\n",
       "        161.18367347,  169.34693878,  177.51020408,  185.67346939,\n",
       "        193.83673469,  197.91836735])"
      ]
     },
     "execution_count": 16,
     "metadata": {},
     "output_type": "execute_result"
    }
   ],
   "source": [
    "dy1 = np.gradient(y1, x)\n",
    "dy1"
   ]
  },
  {
   "cell_type": "code",
   "execution_count": 17,
   "metadata": {},
   "outputs": [],
   "source": [
    "x2 = np.linspace(-100, 100)\n",
    "y2 = 4*x**3 - 3*x**2 + 2*x -1"
   ]
  },
  {
   "cell_type": "code",
   "execution_count": 18,
   "metadata": {},
   "outputs": [
    {
     "data": {
      "text/plain": [
       "array([1.15758435e+05, 1.11048147e+05, 1.01827489e+05, 9.30066647e+04,\n",
       "       8.45856735e+04, 7.65645156e+04, 6.89431912e+04, 6.17217001e+04,\n",
       "       5.49000425e+04, 4.84782182e+04, 4.24562274e+04, 3.68340700e+04,\n",
       "       3.16117459e+04, 2.67892553e+04, 2.23665981e+04, 1.83437743e+04,\n",
       "       1.47207838e+04, 1.14976268e+04, 8.67430321e+03, 6.25081299e+03,\n",
       "       4.22715618e+03, 2.60333278e+03, 1.37934277e+03, 5.55186172e+02,\n",
       "       1.30862974e+02, 1.06373178e+02, 4.81716785e+02, 1.25689379e+03,\n",
       "       2.43190421e+03, 4.00674802e+03, 5.98142524e+03, 8.35593586e+03,\n",
       "       1.11302799e+04, 1.43044573e+04, 1.78784681e+04, 2.18523124e+04,\n",
       "       2.62259900e+04, 3.09995010e+04, 3.61728455e+04, 4.17460233e+04,\n",
       "       4.77190346e+04, 5.40918792e+04, 6.08645573e+04, 6.80370687e+04,\n",
       "       7.56094136e+04, 8.35815918e+04, 9.19536035e+04, 1.00725449e+05,\n",
       "       1.09897127e+05, 1.14582925e+05])"
      ]
     },
     "execution_count": 18,
     "metadata": {},
     "output_type": "execute_result"
    }
   ],
   "source": [
    "dy2 = np.gradient(y2, x2)\n",
    "dy2"
   ]
  }
 ],
 "metadata": {
  "interpreter": {
   "hash": "5e5ed00859d049be25764bd03284114021acb233c7fc9346aaafb5c9d5d58164"
  },
  "kernelspec": {
   "display_name": "Python 3.9.7 ('base')",
   "language": "python",
   "name": "python3"
  },
  "language_info": {
   "codemirror_mode": {
    "name": "ipython",
    "version": 3
   },
   "file_extension": ".py",
   "mimetype": "text/x-python",
   "name": "python",
   "nbconvert_exporter": "python",
   "pygments_lexer": "ipython3",
   "version": "3.9.7"
  },
  "orig_nbformat": 4
 },
 "nbformat": 4,
 "nbformat_minor": 2
}
