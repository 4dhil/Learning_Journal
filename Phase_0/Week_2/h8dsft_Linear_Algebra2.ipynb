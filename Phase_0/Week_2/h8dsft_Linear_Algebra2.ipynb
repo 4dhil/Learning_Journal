{
 "cells": [
  {
   "cell_type": "markdown",
   "metadata": {},
   "source": [
    "## Non Graded Challenge 4"
   ]
  },
  {
   "cell_type": "code",
   "execution_count": 1,
   "metadata": {},
   "outputs": [],
   "source": [
    "import numpy as np"
   ]
  },
  {
   "cell_type": "markdown",
   "metadata": {},
   "source": [
    "1. Membuat tensor"
   ]
  },
  {
   "cell_type": "code",
   "execution_count": 2,
   "metadata": {},
   "outputs": [
    {
     "name": "stdout",
     "output_type": "stream",
     "text": [
      "[[23 50]\n",
      " [ 7 12]] [[57 57]\n",
      " [99 43]] [[75 21]\n",
      " [57 12]] [[87 26]\n",
      " [18 84]]\n"
     ]
    }
   ],
   "source": [
    "a = np.array([[23, 50], [7, 12]])\n",
    "\n",
    "b = np.array([[57, 57], [99, 43]])\n",
    "\n",
    "c = np.array([[75, 21], [57, 12]])\n",
    "\n",
    "d = np.array([[87, 26], [18, 84]])\n",
    "\n",
    "print(a, b, c, d)"
   ]
  },
  {
   "cell_type": "code",
   "execution_count": 7,
   "metadata": {},
   "outputs": [
    {
     "data": {
      "text/plain": [
       "array([[[23, 50],\n",
       "        [ 7, 12]],\n",
       "\n",
       "       [[57, 57],\n",
       "        [99, 43]],\n",
       "\n",
       "       [[75, 21],\n",
       "        [57, 12]],\n",
       "\n",
       "       [[87, 26],\n",
       "        [18, 84]]])"
      ]
     },
     "execution_count": 7,
     "metadata": {},
     "output_type": "execute_result"
    }
   ],
   "source": [
    "tensor = np.array([a, b, c, d])\n",
    "tensor"
   ]
  },
  {
   "cell_type": "markdown",
   "metadata": {},
   "source": [
    "2. Melakukan perkalian matrix"
   ]
  },
  {
   "cell_type": "code",
   "execution_count": 9,
   "metadata": {},
   "outputs": [],
   "source": [
    "A = np.array([[23, 50, 19], [7, 12, 109], [57, 67, 98]])\n",
    "\n",
    "B = np.array([[17], [22], [19]])"
   ]
  },
  {
   "cell_type": "code",
   "execution_count": 10,
   "metadata": {},
   "outputs": [
    {
     "data": {
      "text/plain": [
       "array([[1852],\n",
       "       [2454],\n",
       "       [4305]])"
      ]
     },
     "execution_count": 10,
     "metadata": {},
     "output_type": "execute_result"
    }
   ],
   "source": [
    "A @ B"
   ]
  },
  {
   "cell_type": "markdown",
   "metadata": {},
   "source": [
    "3. Melakukan Transpose, menghitung determinan, dan inverse terhadap matrix"
   ]
  },
  {
   "cell_type": "code",
   "execution_count": 12,
   "metadata": {},
   "outputs": [
    {
     "data": {
      "text/plain": [
       "array([[ 23,  50,  19],\n",
       "       [  7,  12, 109],\n",
       "       [ 57,  67,  98]])"
      ]
     },
     "execution_count": 12,
     "metadata": {},
     "output_type": "execute_result"
    }
   ],
   "source": [
    "A"
   ]
  },
  {
   "cell_type": "code",
   "execution_count": 17,
   "metadata": {},
   "outputs": [
    {
     "data": {
      "text/plain": [
       "array([[ 23,   7,  57],\n",
       "       [ 50,  12,  67],\n",
       "       [ 19, 109,  98]])"
      ]
     },
     "execution_count": 17,
     "metadata": {},
     "output_type": "execute_result"
    }
   ],
   "source": [
    "Transpose = A.T\n",
    "Transpose"
   ]
  },
  {
   "cell_type": "code",
   "execution_count": 23,
   "metadata": {},
   "outputs": [
    {
     "data": {
      "text/plain": [
       "131344.0000000002"
      ]
     },
     "execution_count": 23,
     "metadata": {},
     "output_type": "execute_result"
    }
   ],
   "source": [
    "Determinan = np.linalg.det(A)\n",
    "Determinan"
   ]
  },
  {
   "cell_type": "code",
   "execution_count": 18,
   "metadata": {},
   "outputs": [
    {
     "data": {
      "text/plain": [
       "array([[-0.0466485 , -0.02761451,  0.03975819],\n",
       "       [ 0.04208034,  0.00891552, -0.01807467],\n",
       "       [-0.00163692,  0.0099662 , -0.00056341]])"
      ]
     },
     "execution_count": 18,
     "metadata": {},
     "output_type": "execute_result"
    }
   ],
   "source": [
    "Inverse = np.linalg.inv(A)\n",
    "Inverse"
   ]
  },
  {
   "cell_type": "code",
   "execution_count": null,
   "metadata": {},
   "outputs": [],
   "source": []
  }
 ],
 "metadata": {
  "interpreter": {
   "hash": "5e5ed00859d049be25764bd03284114021acb233c7fc9346aaafb5c9d5d58164"
  },
  "kernelspec": {
   "display_name": "Python 3.9.7 ('base')",
   "language": "python",
   "name": "python3"
  },
  "language_info": {
   "codemirror_mode": {
    "name": "ipython",
    "version": 3
   },
   "file_extension": ".py",
   "mimetype": "text/x-python",
   "name": "python",
   "nbconvert_exporter": "python",
   "pygments_lexer": "ipython3",
   "version": "3.9.7"
  },
  "orig_nbformat": 4
 },
 "nbformat": 4,
 "nbformat_minor": 2
}
