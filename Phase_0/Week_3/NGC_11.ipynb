{
 "cells": [
  {
   "cell_type": "code",
   "execution_count": 23,
   "metadata": {},
   "outputs": [],
   "source": [
    "import pandas as pd\n",
    "import numpy as np"
   ]
  },
  {
   "cell_type": "code",
   "execution_count": 24,
   "metadata": {},
   "outputs": [
    {
     "data": {
      "text/html": [
       "<div>\n",
       "<style scoped>\n",
       "    .dataframe tbody tr th:only-of-type {\n",
       "        vertical-align: middle;\n",
       "    }\n",
       "\n",
       "    .dataframe tbody tr th {\n",
       "        vertical-align: top;\n",
       "    }\n",
       "\n",
       "    .dataframe thead th {\n",
       "        text-align: right;\n",
       "    }\n",
       "</style>\n",
       "<table border=\"1\" class=\"dataframe\">\n",
       "  <thead>\n",
       "    <tr style=\"text-align: right;\">\n",
       "      <th></th>\n",
       "      <th>Date</th>\n",
       "      <th>Location ISO Code</th>\n",
       "      <th>Location</th>\n",
       "      <th>New Cases</th>\n",
       "      <th>New Deaths</th>\n",
       "      <th>New Recovered</th>\n",
       "      <th>New Active Cases</th>\n",
       "      <th>Total Cases</th>\n",
       "      <th>Total Deaths</th>\n",
       "      <th>Total Recovered</th>\n",
       "      <th>...</th>\n",
       "      <th>Latitude</th>\n",
       "      <th>New Cases per Million</th>\n",
       "      <th>Total Cases per Million</th>\n",
       "      <th>New Deaths per Million</th>\n",
       "      <th>Total Deaths per Million</th>\n",
       "      <th>Total Deaths per 100rb</th>\n",
       "      <th>Case Fatality Rate</th>\n",
       "      <th>Case Recovered Rate</th>\n",
       "      <th>Growth Factor of New Cases</th>\n",
       "      <th>Growth Factor of New Deaths</th>\n",
       "    </tr>\n",
       "  </thead>\n",
       "  <tbody>\n",
       "    <tr>\n",
       "      <th>0</th>\n",
       "      <td>3/1/2020</td>\n",
       "      <td>ID-JK</td>\n",
       "      <td>DKI Jakarta</td>\n",
       "      <td>2</td>\n",
       "      <td>0</td>\n",
       "      <td>0</td>\n",
       "      <td>2</td>\n",
       "      <td>39</td>\n",
       "      <td>20</td>\n",
       "      <td>41</td>\n",
       "      <td>...</td>\n",
       "      <td>-6.204699</td>\n",
       "      <td>0.18</td>\n",
       "      <td>3.60</td>\n",
       "      <td>0.0</td>\n",
       "      <td>1.84</td>\n",
       "      <td>0.18</td>\n",
       "      <td>51.28%</td>\n",
       "      <td>105.13%</td>\n",
       "      <td>NaN</td>\n",
       "      <td>NaN</td>\n",
       "    </tr>\n",
       "    <tr>\n",
       "      <th>1</th>\n",
       "      <td>3/2/2020</td>\n",
       "      <td>ID-JK</td>\n",
       "      <td>DKI Jakarta</td>\n",
       "      <td>2</td>\n",
       "      <td>0</td>\n",
       "      <td>0</td>\n",
       "      <td>2</td>\n",
       "      <td>41</td>\n",
       "      <td>20</td>\n",
       "      <td>41</td>\n",
       "      <td>...</td>\n",
       "      <td>-6.204699</td>\n",
       "      <td>0.18</td>\n",
       "      <td>3.78</td>\n",
       "      <td>0.0</td>\n",
       "      <td>1.84</td>\n",
       "      <td>0.18</td>\n",
       "      <td>48.78%</td>\n",
       "      <td>100.00%</td>\n",
       "      <td>1.0</td>\n",
       "      <td>1.0</td>\n",
       "    </tr>\n",
       "    <tr>\n",
       "      <th>2</th>\n",
       "      <td>3/2/2020</td>\n",
       "      <td>IDN</td>\n",
       "      <td>Indonesia</td>\n",
       "      <td>2</td>\n",
       "      <td>0</td>\n",
       "      <td>0</td>\n",
       "      <td>2</td>\n",
       "      <td>2</td>\n",
       "      <td>0</td>\n",
       "      <td>0</td>\n",
       "      <td>...</td>\n",
       "      <td>-0.789275</td>\n",
       "      <td>0.01</td>\n",
       "      <td>0.01</td>\n",
       "      <td>0.0</td>\n",
       "      <td>0.00</td>\n",
       "      <td>0.00</td>\n",
       "      <td>0.00%</td>\n",
       "      <td>0.00%</td>\n",
       "      <td>NaN</td>\n",
       "      <td>NaN</td>\n",
       "    </tr>\n",
       "    <tr>\n",
       "      <th>3</th>\n",
       "      <td>3/2/2020</td>\n",
       "      <td>ID-RI</td>\n",
       "      <td>Riau</td>\n",
       "      <td>1</td>\n",
       "      <td>0</td>\n",
       "      <td>0</td>\n",
       "      <td>1</td>\n",
       "      <td>2</td>\n",
       "      <td>0</td>\n",
       "      <td>3</td>\n",
       "      <td>...</td>\n",
       "      <td>0.511648</td>\n",
       "      <td>0.16</td>\n",
       "      <td>0.33</td>\n",
       "      <td>0.0</td>\n",
       "      <td>0.00</td>\n",
       "      <td>0.00</td>\n",
       "      <td>0.00%</td>\n",
       "      <td>150.00%</td>\n",
       "      <td>NaN</td>\n",
       "      <td>NaN</td>\n",
       "    </tr>\n",
       "    <tr>\n",
       "      <th>4</th>\n",
       "      <td>3/3/2020</td>\n",
       "      <td>ID-JK</td>\n",
       "      <td>DKI Jakarta</td>\n",
       "      <td>2</td>\n",
       "      <td>0</td>\n",
       "      <td>0</td>\n",
       "      <td>2</td>\n",
       "      <td>43</td>\n",
       "      <td>20</td>\n",
       "      <td>41</td>\n",
       "      <td>...</td>\n",
       "      <td>-6.204699</td>\n",
       "      <td>0.18</td>\n",
       "      <td>3.96</td>\n",
       "      <td>0.0</td>\n",
       "      <td>1.84</td>\n",
       "      <td>0.18</td>\n",
       "      <td>46.51%</td>\n",
       "      <td>95.35%</td>\n",
       "      <td>1.0</td>\n",
       "      <td>1.0</td>\n",
       "    </tr>\n",
       "  </tbody>\n",
       "</table>\n",
       "<p>5 rows × 38 columns</p>\n",
       "</div>"
      ],
      "text/plain": [
       "       Date Location ISO Code     Location  New Cases  New Deaths  \\\n",
       "0  3/1/2020             ID-JK  DKI Jakarta          2           0   \n",
       "1  3/2/2020             ID-JK  DKI Jakarta          2           0   \n",
       "2  3/2/2020               IDN    Indonesia          2           0   \n",
       "3  3/2/2020             ID-RI         Riau          1           0   \n",
       "4  3/3/2020             ID-JK  DKI Jakarta          2           0   \n",
       "\n",
       "   New Recovered  New Active Cases  Total Cases  Total Deaths  \\\n",
       "0              0                 2           39            20   \n",
       "1              0                 2           41            20   \n",
       "2              0                 2            2             0   \n",
       "3              0                 1            2             0   \n",
       "4              0                 2           43            20   \n",
       "\n",
       "   Total Recovered  ...  Latitude New Cases per Million  \\\n",
       "0               41  ... -6.204699                  0.18   \n",
       "1               41  ... -6.204699                  0.18   \n",
       "2                0  ... -0.789275                  0.01   \n",
       "3                3  ...  0.511648                  0.16   \n",
       "4               41  ... -6.204699                  0.18   \n",
       "\n",
       "   Total Cases per Million New Deaths per Million Total Deaths per Million  \\\n",
       "0                     3.60                    0.0                     1.84   \n",
       "1                     3.78                    0.0                     1.84   \n",
       "2                     0.01                    0.0                     0.00   \n",
       "3                     0.33                    0.0                     0.00   \n",
       "4                     3.96                    0.0                     1.84   \n",
       "\n",
       "  Total Deaths per 100rb Case Fatality Rate Case Recovered Rate  \\\n",
       "0                   0.18             51.28%             105.13%   \n",
       "1                   0.18             48.78%             100.00%   \n",
       "2                   0.00              0.00%               0.00%   \n",
       "3                   0.00              0.00%             150.00%   \n",
       "4                   0.18             46.51%              95.35%   \n",
       "\n",
       "  Growth Factor of New Cases  Growth Factor of New Deaths  \n",
       "0                        NaN                          NaN  \n",
       "1                        1.0                          1.0  \n",
       "2                        NaN                          NaN  \n",
       "3                        NaN                          NaN  \n",
       "4                        1.0                          1.0  \n",
       "\n",
       "[5 rows x 38 columns]"
      ]
     },
     "execution_count": 24,
     "metadata": {},
     "output_type": "execute_result"
    }
   ],
   "source": [
    "df = pd.read_csv('covid_19.csv')\n",
    "df.head()"
   ]
  },
  {
   "cell_type": "code",
   "execution_count": 25,
   "metadata": {},
   "outputs": [
    {
     "name": "stdout",
     "output_type": "stream",
     "text": [
      "<class 'pandas.core.frame.DataFrame'>\n",
      "RangeIndex: 21759 entries, 0 to 21758\n",
      "Data columns (total 38 columns):\n",
      " #   Column                       Non-Null Count  Dtype  \n",
      "---  ------                       --------------  -----  \n",
      " 0   Date                         21759 non-null  object \n",
      " 1   Location ISO Code            21759 non-null  object \n",
      " 2   Location                     21759 non-null  object \n",
      " 3   New Cases                    21759 non-null  int64  \n",
      " 4   New Deaths                   21759 non-null  int64  \n",
      " 5   New Recovered                21759 non-null  int64  \n",
      " 6   New Active Cases             21759 non-null  int64  \n",
      " 7   Total Cases                  21759 non-null  int64  \n",
      " 8   Total Deaths                 21759 non-null  int64  \n",
      " 9   Total Recovered              21759 non-null  int64  \n",
      " 10  Total Active Cases           21759 non-null  int64  \n",
      " 11  Location Level               21759 non-null  object \n",
      " 12  City or Regency              0 non-null      float64\n",
      " 13  Province                     21117 non-null  object \n",
      " 14  Country                      21759 non-null  object \n",
      " 15  Continent                    21759 non-null  object \n",
      " 16  Island                       21117 non-null  object \n",
      " 17  Time Zone                    21117 non-null  object \n",
      " 18  Special Status               3123 non-null   object \n",
      " 19  Total Regencies              21759 non-null  int64  \n",
      " 20  Total Cities                 21145 non-null  float64\n",
      " 21  Total Districts              21759 non-null  int64  \n",
      " 22  Total Urban Villages         21142 non-null  float64\n",
      " 23  Total Rural Villages         21117 non-null  float64\n",
      " 24  Area (km2)                   21759 non-null  int64  \n",
      " 25  Population                   21759 non-null  int64  \n",
      " 26  Population Density           21759 non-null  float64\n",
      " 27  Longitude                    21759 non-null  float64\n",
      " 28  Latitude                     21759 non-null  float64\n",
      " 29  New Cases per Million        21759 non-null  float64\n",
      " 30  Total Cases per Million      21759 non-null  float64\n",
      " 31  New Deaths per Million       21759 non-null  float64\n",
      " 32  Total Deaths per Million     21759 non-null  float64\n",
      " 33  Total Deaths per 100rb       21759 non-null  float64\n",
      " 34  Case Fatality Rate           21759 non-null  object \n",
      " 35  Case Recovered Rate          21759 non-null  object \n",
      " 36  Growth Factor of New Cases   20572 non-null  float64\n",
      " 37  Growth Factor of New Deaths  19292 non-null  float64\n",
      "dtypes: float64(14), int64(12), object(12)\n",
      "memory usage: 6.3+ MB\n"
     ]
    }
   ],
   "source": [
    "df.info()"
   ]
  },
  {
   "cell_type": "markdown",
   "metadata": {},
   "source": [
    "Missing values:\n",
    "City or Regency, Special Status, Time Zone, Island, Province\n"
   ]
  },
  {
   "cell_type": "code",
   "execution_count": 49,
   "metadata": {},
   "outputs": [
    {
     "name": "stdout",
     "output_type": "stream",
     "text": [
      "<class 'pandas.core.frame.DataFrame'>\n",
      "RangeIndex: 21759 entries, 0 to 21758\n",
      "Data columns (total 34 columns):\n",
      " #   Column                       Non-Null Count  Dtype  \n",
      "---  ------                       --------------  -----  \n",
      " 0   Date                         21759 non-null  object \n",
      " 1   Location ISO Code            21759 non-null  object \n",
      " 2   Location                     21759 non-null  object \n",
      " 3   New Cases                    21759 non-null  int64  \n",
      " 4   New Deaths                   21759 non-null  int64  \n",
      " 5   New Recovered                21759 non-null  int64  \n",
      " 6   New Active Cases             21759 non-null  int64  \n",
      " 7   Total Cases                  21759 non-null  int64  \n",
      " 8   Total Deaths                 21759 non-null  int64  \n",
      " 9   Total Recovered              21759 non-null  int64  \n",
      " 10  Total Active Cases           21759 non-null  int64  \n",
      " 11  Location Level               21759 non-null  object \n",
      " 12  Province                     21117 non-null  object \n",
      " 13  Country                      21759 non-null  object \n",
      " 14  Continent                    21759 non-null  object \n",
      " 15  Total Regencies              21759 non-null  int64  \n",
      " 16  Total Cities                 21145 non-null  float64\n",
      " 17  Total Districts              21759 non-null  int64  \n",
      " 18  Total Urban Villages         21142 non-null  float64\n",
      " 19  Total Rural Villages         21117 non-null  float64\n",
      " 20  Area (km2)                   21759 non-null  int64  \n",
      " 21  Population                   21759 non-null  int64  \n",
      " 22  Population Density           21759 non-null  float64\n",
      " 23  Longitude                    21759 non-null  float64\n",
      " 24  Latitude                     21759 non-null  float64\n",
      " 25  New Cases per Million        21759 non-null  float64\n",
      " 26  Total Cases per Million      21759 non-null  float64\n",
      " 27  New Deaths per Million       21759 non-null  float64\n",
      " 28  Total Deaths per Million     21759 non-null  float64\n",
      " 29  Total Deaths per 100rb       21759 non-null  float64\n",
      " 30  Case Fatality Rate           21759 non-null  object \n",
      " 31  Case Recovered Rate          21759 non-null  object \n",
      " 32  Growth Factor of New Cases   20572 non-null  float64\n",
      " 33  Growth Factor of New Deaths  19292 non-null  float64\n",
      "dtypes: float64(13), int64(12), object(9)\n",
      "memory usage: 5.6+ MB\n"
     ]
    }
   ],
   "source": [
    "df.info()"
   ]
  },
  {
   "cell_type": "code",
   "execution_count": 26,
   "metadata": {},
   "outputs": [],
   "source": [
    "df = df.drop(['City or Regency', 'Special Status', 'Time Zone', 'Island'], axis=1)"
   ]
  },
  {
   "cell_type": "code",
   "execution_count": 27,
   "metadata": {},
   "outputs": [
    {
     "name": "stdout",
     "output_type": "stream",
     "text": [
      "<class 'pandas.core.frame.DataFrame'>\n",
      "RangeIndex: 21759 entries, 0 to 21758\n",
      "Data columns (total 34 columns):\n",
      " #   Column                       Non-Null Count  Dtype  \n",
      "---  ------                       --------------  -----  \n",
      " 0   Date                         21759 non-null  object \n",
      " 1   Location ISO Code            21759 non-null  object \n",
      " 2   Location                     21759 non-null  object \n",
      " 3   New Cases                    21759 non-null  int64  \n",
      " 4   New Deaths                   21759 non-null  int64  \n",
      " 5   New Recovered                21759 non-null  int64  \n",
      " 6   New Active Cases             21759 non-null  int64  \n",
      " 7   Total Cases                  21759 non-null  int64  \n",
      " 8   Total Deaths                 21759 non-null  int64  \n",
      " 9   Total Recovered              21759 non-null  int64  \n",
      " 10  Total Active Cases           21759 non-null  int64  \n",
      " 11  Location Level               21759 non-null  object \n",
      " 12  Province                     21117 non-null  object \n",
      " 13  Country                      21759 non-null  object \n",
      " 14  Continent                    21759 non-null  object \n",
      " 15  Total Regencies              21759 non-null  int64  \n",
      " 16  Total Cities                 21145 non-null  float64\n",
      " 17  Total Districts              21759 non-null  int64  \n",
      " 18  Total Urban Villages         21142 non-null  float64\n",
      " 19  Total Rural Villages         21117 non-null  float64\n",
      " 20  Area (km2)                   21759 non-null  int64  \n",
      " 21  Population                   21759 non-null  int64  \n",
      " 22  Population Density           21759 non-null  float64\n",
      " 23  Longitude                    21759 non-null  float64\n",
      " 24  Latitude                     21759 non-null  float64\n",
      " 25  New Cases per Million        21759 non-null  float64\n",
      " 26  Total Cases per Million      21759 non-null  float64\n",
      " 27  New Deaths per Million       21759 non-null  float64\n",
      " 28  Total Deaths per Million     21759 non-null  float64\n",
      " 29  Total Deaths per 100rb       21759 non-null  float64\n",
      " 30  Case Fatality Rate           21759 non-null  object \n",
      " 31  Case Recovered Rate          21759 non-null  object \n",
      " 32  Growth Factor of New Cases   20572 non-null  float64\n",
      " 33  Growth Factor of New Deaths  19292 non-null  float64\n",
      "dtypes: float64(13), int64(12), object(9)\n",
      "memory usage: 5.6+ MB\n"
     ]
    }
   ],
   "source": [
    "df.info()"
   ]
  },
  {
   "cell_type": "markdown",
   "metadata": {},
   "source": [
    "Mencari Rata-rata"
   ]
  },
  {
   "cell_type": "code",
   "execution_count": 28,
   "metadata": {},
   "outputs": [
    {
     "data": {
      "text/plain": [
       "391.29357966818327"
      ]
     },
     "execution_count": 28,
     "metadata": {},
     "output_type": "execute_result"
    }
   ],
   "source": [
    "df['New Cases'].mean()"
   ]
  },
  {
   "cell_type": "markdown",
   "metadata": {},
   "source": [
    "Mencari Median"
   ]
  },
  {
   "cell_type": "code",
   "execution_count": 29,
   "metadata": {},
   "outputs": [
    {
     "data": {
      "text/plain": [
       "41.0"
      ]
     },
     "execution_count": 29,
     "metadata": {},
     "output_type": "execute_result"
    }
   ],
   "source": [
    "df['New Cases'].median()"
   ]
  },
  {
   "cell_type": "markdown",
   "metadata": {},
   "source": [
    "Mencari Modus"
   ]
  },
  {
   "cell_type": "code",
   "execution_count": 34,
   "metadata": {},
   "outputs": [
    {
     "data": {
      "text/plain": [
       "'DKI Jakarta'"
      ]
     },
     "execution_count": 34,
     "metadata": {},
     "output_type": "execute_result"
    }
   ],
   "source": [
    "df['Province'].mode()[0]"
   ]
  },
  {
   "cell_type": "code",
   "execution_count": 43,
   "metadata": {},
   "outputs": [
    {
     "name": "stdout",
     "output_type": "stream",
     "text": [
      "Min: 1\n",
      "Mode: 2\n",
      "Median: 10780.0\n",
      "Mean: 85259.97081667357\n",
      "Max: 4257243\n"
     ]
    }
   ],
   "source": [
    "# Get the Mean, Median, Mode, Min, and Max\n",
    "\n",
    "print ('Min: ' + str(df['Total Cases'].min()))\n",
    "print ('Mode: ' + str(df['Total Cases'].mode()[0]))\n",
    "print ('Median: ' + str(df['Total Cases'].median()))\n",
    "print ('Mean: ' + str(df['Total Cases'].mean()))\n",
    "print ('Max: ' + str(df['Total Cases'].max()))"
   ]
  },
  {
   "cell_type": "code",
   "execution_count": 44,
   "metadata": {},
   "outputs": [
    {
     "data": {
      "image/png": "[encoded data removed]",
      "text/plain": [
       "<Figure size 432x288 with 1 Axes>"
      ]
     },
     "metadata": {
      "needs_background": "light"
     },
     "output_type": "display_data"
    }
   ],
   "source": [
    "# Create a Histogram of Salary\n",
    "\n",
    "%matplotlib inline\n",
    "import pandas as pd\n",
    "import matplotlib.pyplot as plt\n",
    "\n",
    "TC = df['Total Cases']\n",
    "TC.plot.hist(title='TC', color='lightblue', bins=25)  \n",
    "plt.axvline(TC.mean(), color='magenta', linestyle='dashed', linewidth=2)\n",
    "plt.axvline(TC.median(), color='green', linestyle='dashed', linewidth=2)\n",
    "plt.show()"
   ]
  },
  {
   "cell_type": "code",
   "execution_count": 46,
   "metadata": {},
   "outputs": [
    {
     "data": {
      "image/png": "[encoded data removed]",
      "text/plain": [
       "<Figure size 432x288 with 1 Axes>"
      ]
     },
     "metadata": {
      "needs_background": "light"
     },
     "output_type": "display_data"
    }
   ],
   "source": [
    "%matplotlib inline\n",
    "import pandas as pd\n",
    "import matplotlib.pyplot as plt\n",
    "import numpy as np\n",
    "import scipy.stats as stats\n",
    "\n",
    "TC = df['Total Cases']\n",
    "density = stats.gaussian_kde(TC)\n",
    "n, x, _ = plt.hist(TC, histtype='step', bins=25) \n",
    "plt.plot(x, density(x)*10**5)\n",
    "plt.axvline(TC.mean(), color='magenta', linestyle='dashed', linewidth=2)\n",
    "plt.axvline(TC.median(), color='green', linestyle='dashed', linewidth=2)\n",
    "plt.show()"
   ]
  },
  {
   "cell_type": "code",
   "execution_count": null,
   "metadata": {},
   "outputs": [],
   "source": []
  }
 ],
 "metadata": {
  "interpreter": {
   "hash": "5e5ed00859d049be25764bd03284114021acb233c7fc9346aaafb5c9d5d58164"
  },
  "kernelspec": {
   "display_name": "Python 3.9.7 ('base')",
   "language": "python",
   "name": "python3"
  },
  "language_info": {
   "codemirror_mode": {
    "name": "ipython",
    "version": 3
   },
   "file_extension": ".py",
   "mimetype": "text/x-python",
   "name": "python",
   "nbconvert_exporter": "python",
   "pygments_lexer": "ipython3",
   "version": "3.9.7"
  },
  "orig_nbformat": 4
 },
 "nbformat": 4,
 "nbformat_minor": 2
}
