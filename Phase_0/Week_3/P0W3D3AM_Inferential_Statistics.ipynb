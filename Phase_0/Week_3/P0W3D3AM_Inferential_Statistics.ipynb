{
  "cells": [
    {
      "cell_type": "markdown",
      "metadata": {
        "id": "FP3QbXZESMch"
      },
      "source": [
        "# Day 3 AM - Inferential Statistics\n"
      ]
    },
    {
      "cell_type": "code",
      "execution_count": 1,
      "metadata": {
        "id": "XQGzj7iMVmni"
      },
      "outputs": [
        {
          "ename": "ImportError",
          "evalue": "cannot import name 'animation' from partially initialized module 'matplotlib' (most likely due to a circular import) (C:\\Users\\OWNER\\anaconda3\\lib\\site-packages\\matplotlib\\__init__.py)",
          "output_type": "error",
          "traceback": [
            "\u001b[1;31m---------------------------------------------------------------------------\u001b[0m",
            "\u001b[1;31mImportError\u001b[0m                               Traceback (most recent call last)",
            "\u001b[1;32m~\\AppData\\Local\\Temp/ipykernel_23280/2668988699.py\u001b[0m in \u001b[0;36m<module>\u001b[1;34m\u001b[0m\n\u001b[0;32m      2\u001b[0m \u001b[1;32mfrom\u001b[0m \u001b[0mscipy\u001b[0m \u001b[1;32mimport\u001b[0m \u001b[0mstats\u001b[0m\u001b[1;33m\u001b[0m\u001b[1;33m\u001b[0m\u001b[0m\n\u001b[0;32m      3\u001b[0m \u001b[1;32mimport\u001b[0m \u001b[0mnumpy\u001b[0m \u001b[1;32mas\u001b[0m \u001b[0mnp\u001b[0m\u001b[1;33m\u001b[0m\u001b[1;33m\u001b[0m\u001b[0m\n\u001b[1;32m----> 4\u001b[1;33m \u001b[1;32mimport\u001b[0m \u001b[0mmatplotlib\u001b[0m\u001b[1;33m.\u001b[0m\u001b[0mpyplot\u001b[0m \u001b[1;32mas\u001b[0m \u001b[0mplt\u001b[0m\u001b[1;33m\u001b[0m\u001b[1;33m\u001b[0m\u001b[0m\n\u001b[0m\u001b[0;32m      5\u001b[0m \u001b[1;32mimport\u001b[0m \u001b[0mseaborn\u001b[0m \u001b[1;32mas\u001b[0m \u001b[0msns\u001b[0m\u001b[1;33m\u001b[0m\u001b[1;33m\u001b[0m\u001b[0m\n",
            "\u001b[1;32m~\\anaconda3\\lib\\site-packages\\matplotlib\\__init__.py\u001b[0m in \u001b[0;36m<module>\u001b[1;34m\u001b[0m\n\u001b[0;32m    107\u001b[0m \u001b[1;31m# cbook must import matplotlib only within function\u001b[0m\u001b[1;33m\u001b[0m\u001b[1;33m\u001b[0m\u001b[0m\n\u001b[0;32m    108\u001b[0m \u001b[1;31m# definitions, so it is safe to import from it here.\u001b[0m\u001b[1;33m\u001b[0m\u001b[1;33m\u001b[0m\u001b[0m\n\u001b[1;32m--> 109\u001b[1;33m \u001b[1;32mfrom\u001b[0m \u001b[1;33m.\u001b[0m \u001b[1;32mimport\u001b[0m \u001b[0m_api\u001b[0m\u001b[1;33m,\u001b[0m \u001b[0m_version\u001b[0m\u001b[1;33m,\u001b[0m \u001b[0mcbook\u001b[0m\u001b[1;33m,\u001b[0m \u001b[0mdocstring\u001b[0m\u001b[1;33m,\u001b[0m \u001b[0mrcsetup\u001b[0m\u001b[1;33m\u001b[0m\u001b[1;33m\u001b[0m\u001b[0m\n\u001b[0m\u001b[0;32m    110\u001b[0m \u001b[1;32mfrom\u001b[0m \u001b[0mmatplotlib\u001b[0m\u001b[1;33m.\u001b[0m\u001b[0mcbook\u001b[0m \u001b[1;32mimport\u001b[0m \u001b[0mMatplotlibDeprecationWarning\u001b[0m\u001b[1;33m,\u001b[0m \u001b[0msanitize_sequence\u001b[0m\u001b[1;33m\u001b[0m\u001b[1;33m\u001b[0m\u001b[0m\n\u001b[0;32m    111\u001b[0m \u001b[1;32mfrom\u001b[0m \u001b[0mmatplotlib\u001b[0m\u001b[1;33m.\u001b[0m\u001b[0mcbook\u001b[0m \u001b[1;32mimport\u001b[0m \u001b[0mmplDeprecation\u001b[0m  \u001b[1;31m# deprecated\u001b[0m\u001b[1;33m\u001b[0m\u001b[1;33m\u001b[0m\u001b[0m\n",
            "\u001b[1;32m~\\anaconda3\\lib\\site-packages\\matplotlib\\rcsetup.py\u001b[0m in \u001b[0;36m<module>\u001b[1;34m\u001b[0m\n\u001b[0;32m     22\u001b[0m \u001b[1;32mimport\u001b[0m \u001b[0mnumpy\u001b[0m \u001b[1;32mas\u001b[0m \u001b[0mnp\u001b[0m\u001b[1;33m\u001b[0m\u001b[1;33m\u001b[0m\u001b[0m\n\u001b[0;32m     23\u001b[0m \u001b[1;33m\u001b[0m\u001b[0m\n\u001b[1;32m---> 24\u001b[1;33m \u001b[1;32mfrom\u001b[0m \u001b[0mmatplotlib\u001b[0m \u001b[1;32mimport\u001b[0m \u001b[0m_api\u001b[0m\u001b[1;33m,\u001b[0m \u001b[0manimation\u001b[0m\u001b[1;33m,\u001b[0m \u001b[0mcbook\u001b[0m\u001b[1;33m\u001b[0m\u001b[1;33m\u001b[0m\u001b[0m\n\u001b[0m\u001b[0;32m     25\u001b[0m \u001b[1;32mfrom\u001b[0m \u001b[0mmatplotlib\u001b[0m\u001b[1;33m.\u001b[0m\u001b[0mcbook\u001b[0m \u001b[1;32mimport\u001b[0m \u001b[0mls_mapper\u001b[0m\u001b[1;33m\u001b[0m\u001b[1;33m\u001b[0m\u001b[0m\n\u001b[0;32m     26\u001b[0m \u001b[1;32mfrom\u001b[0m \u001b[0mmatplotlib\u001b[0m\u001b[1;33m.\u001b[0m\u001b[0mcolors\u001b[0m \u001b[1;32mimport\u001b[0m \u001b[0mColormap\u001b[0m\u001b[1;33m,\u001b[0m \u001b[0mis_color_like\u001b[0m\u001b[1;33m\u001b[0m\u001b[1;33m\u001b[0m\u001b[0m\n",
            "\u001b[1;31mImportError\u001b[0m: cannot import name 'animation' from partially initialized module 'matplotlib' (most likely due to a circular import) (C:\\Users\\OWNER\\anaconda3\\lib\\site-packages\\matplotlib\\__init__.py)"
          ]
        }
      ],
      "source": [
        "import pandas as pd\n",
        "from scipy import stats\n",
        "import numpy as np\n",
        "import matplotlib.pyplot as plt\n",
        "import seaborn as sns"
      ]
    },
    {
      "cell_type": "markdown",
      "metadata": {
        "id": "NRk3HZRVs7Ct"
      },
      "source": [
        "## Resampling\n",
        "\n",
        "Resampling in statistics means to repeatedly sample values from observed data, with a general goal of assessing random variability in a statistic. To understand what resampling is, let we look at the housing price in Amsterdam data distribution (histogram) below."
      ]
    },
    {
      "cell_type": "code",
      "execution_count": 2,
      "metadata": {
        "colab": {
          "base_uri": "https://localhost:8080/"
        },
        "id": "wJOE-QTgtCnq",
        "outputId": "a3b6ac21-4ffa-4be5-97cd-93fde3f56557"
      },
      "outputs": [
        {
          "data": {
            "text/html": [
              "<div>\n",
              "<style scoped>\n",
              "    .dataframe tbody tr th:only-of-type {\n",
              "        vertical-align: middle;\n",
              "    }\n",
              "\n",
              "    .dataframe tbody tr th {\n",
              "        vertical-align: top;\n",
              "    }\n",
              "\n",
              "    .dataframe thead th {\n",
              "        text-align: right;\n",
              "    }\n",
              "</style>\n",
              "<table border=\"1\" class=\"dataframe\">\n",
              "  <thead>\n",
              "    <tr style=\"text-align: right;\">\n",
              "      <th></th>\n",
              "      <th>Unnamed: 0</th>\n",
              "      <th>Address</th>\n",
              "      <th>Zip</th>\n",
              "      <th>Price</th>\n",
              "      <th>Area</th>\n",
              "      <th>Room</th>\n",
              "      <th>Lon</th>\n",
              "      <th>Lat</th>\n",
              "    </tr>\n",
              "  </thead>\n",
              "  <tbody>\n",
              "    <tr>\n",
              "      <th>0</th>\n",
              "      <td>1</td>\n",
              "      <td>Blasiusstraat 8 2, Amsterdam</td>\n",
              "      <td>1091 CR</td>\n",
              "      <td>685000.0</td>\n",
              "      <td>64</td>\n",
              "      <td>3</td>\n",
              "      <td>4.907736</td>\n",
              "      <td>52.356157</td>\n",
              "    </tr>\n",
              "    <tr>\n",
              "      <th>1</th>\n",
              "      <td>2</td>\n",
              "      <td>Kromme Leimuidenstraat 13 H, Amsterdam</td>\n",
              "      <td>1059 EL</td>\n",
              "      <td>475000.0</td>\n",
              "      <td>60</td>\n",
              "      <td>3</td>\n",
              "      <td>4.850476</td>\n",
              "      <td>52.348586</td>\n",
              "    </tr>\n",
              "    <tr>\n",
              "      <th>2</th>\n",
              "      <td>3</td>\n",
              "      <td>Zaaiersweg 11 A, Amsterdam</td>\n",
              "      <td>1097 SM</td>\n",
              "      <td>850000.0</td>\n",
              "      <td>109</td>\n",
              "      <td>4</td>\n",
              "      <td>4.944774</td>\n",
              "      <td>52.343782</td>\n",
              "    </tr>\n",
              "    <tr>\n",
              "      <th>3</th>\n",
              "      <td>4</td>\n",
              "      <td>Tenerifestraat 40, Amsterdam</td>\n",
              "      <td>1060 TH</td>\n",
              "      <td>580000.0</td>\n",
              "      <td>128</td>\n",
              "      <td>6</td>\n",
              "      <td>4.789928</td>\n",
              "      <td>52.343712</td>\n",
              "    </tr>\n",
              "    <tr>\n",
              "      <th>4</th>\n",
              "      <td>5</td>\n",
              "      <td>Winterjanpad 21, Amsterdam</td>\n",
              "      <td>1036 KN</td>\n",
              "      <td>720000.0</td>\n",
              "      <td>138</td>\n",
              "      <td>5</td>\n",
              "      <td>4.902503</td>\n",
              "      <td>52.410538</td>\n",
              "    </tr>\n",
              "  </tbody>\n",
              "</table>\n",
              "</div>"
            ],
            "text/plain": [
              "   Unnamed: 0                                 Address      Zip     Price  \\\n",
              "0           1            Blasiusstraat 8 2, Amsterdam  1091 CR  685000.0   \n",
              "1           2  Kromme Leimuidenstraat 13 H, Amsterdam  1059 EL  475000.0   \n",
              "2           3              Zaaiersweg 11 A, Amsterdam  1097 SM  850000.0   \n",
              "3           4            Tenerifestraat 40, Amsterdam  1060 TH  580000.0   \n",
              "4           5              Winterjanpad 21, Amsterdam  1036 KN  720000.0   \n",
              "\n",
              "   Area  Room       Lon        Lat  \n",
              "0    64     3  4.907736  52.356157  \n",
              "1    60     3  4.850476  52.348586  \n",
              "2   109     4  4.944774  52.343782  \n",
              "3   128     6  4.789928  52.343712  \n",
              "4   138     5  4.902503  52.410538  "
            ]
          },
          "execution_count": 2,
          "metadata": {},
          "output_type": "execute_result"
        }
      ],
      "source": [
        "house_price = pd.read_csv('https://raw.githubusercontent.com/fahmimnalfrzki/Additional-Materials/main/HousingPrices-Amsterdam-August-2021.csv')\n",
        "house_price.head()"
      ]
    },
    {
      "cell_type": "code",
      "execution_count": 29,
      "metadata": {},
      "outputs": [
        {
          "data": {
            "text/plain": [
              "(924, 8)"
            ]
          },
          "execution_count": 29,
          "metadata": {},
          "output_type": "execute_result"
        }
      ],
      "source": [
        "house_price.shape # 924 data"
      ]
    },
    {
      "cell_type": "code",
      "execution_count": 30,
      "metadata": {
        "colab": {
          "base_uri": "https://localhost:8080/"
        },
        "id": "mJqYA-hWtKQE",
        "outputId": "f9d3f016-b7ad-471f-88cd-40fdfae9c96c"
      },
      "outputs": [
        {
          "data": {
            "text/plain": [
              "<seaborn.axisgrid.FacetGrid at 0x2a078edce50>"
            ]
          },
          "execution_count": 30,
          "metadata": {},
          "output_type": "execute_result"
        },
        {
          "data": {
            "image/png": "[encoded data removed]",
            "text/plain": [
              "<Figure size 360x360 with 1 Axes>"
            ]
          },
          "metadata": {
            "needs_background": "light"
          },
          "output_type": "display_data"
        }
      ],
      "source": [
        "sns.displot(house_price.Price, kde=True, label='Housing Price in Amsterdam')"
      ]
    },
    {
      "cell_type": "code",
      "execution_count": 4,
      "metadata": {
        "colab": {
          "base_uri": "https://localhost:8080/"
        },
        "id": "mCeCuOk7tKtW",
        "outputId": "91abe3b1-51e7-43c4-c2b1-adadf5cd437e"
      },
      "outputs": [
        {
          "data": {
            "image/png": "[encoded data removed]",
            "text/plain": [
              "<Figure size 1296x288 with 4 Axes>"
            ]
          },
          "metadata": {
            "needs_background": "light"
          },
          "output_type": "display_data"
        }
      ],
      "source": [
        "fig,ax = plt.subplots(ncols=4, figsize = (18,4))\n",
        "for i in range(4):\n",
        "  house_price.Price.sample(400).plot(kind='hist',bins=20,ax=ax[i])\n",
        "  ax[i].set_title('Sample #{}'.format(i+1))"
      ]
    },
    {
      "cell_type": "markdown",
      "metadata": {
        "id": "Yzv2OIW0tNb9"
      },
      "source": [
        "We take 100 samples randomly from the housing price data and we did it 4 times. The visualization show that their distribution look the same. It happend simply because of randomness."
      ]
    },
    {
      "cell_type": "markdown",
      "metadata": {
        "id": "ZivUf859s-AX"
      },
      "source": [
        "## Implementation to Marketing Campaign Analysis"
      ]
    },
    {
      "cell_type": "markdown",
      "metadata": {
        "id": "f6F7beDYtBNu"
      },
      "source": [
        "In this lesson, we will learn about hypothesis testing and how to implement it to a daily business case such as online retail. We will use the data from ML UCI dataset https://archive.ics.uci.edu/ml/datasets/online+retail."
      ]
    },
    {
      "cell_type": "code",
      "execution_count": 5,
      "metadata": {
        "colab": {
          "base_uri": "https://localhost:8080/",
          "height": 423
        },
        "id": "i1bTsOU8VMCi",
        "outputId": "791033bb-c1e5-4e08-f5c4-2f51a071c4d8"
      },
      "outputs": [
        {
          "data": {
            "text/html": [
              "<div>\n",
              "<style scoped>\n",
              "    .dataframe tbody tr th:only-of-type {\n",
              "        vertical-align: middle;\n",
              "    }\n",
              "\n",
              "    .dataframe tbody tr th {\n",
              "        vertical-align: top;\n",
              "    }\n",
              "\n",
              "    .dataframe thead th {\n",
              "        text-align: right;\n",
              "    }\n",
              "</style>\n",
              "<table border=\"1\" class=\"dataframe\">\n",
              "  <thead>\n",
              "    <tr style=\"text-align: right;\">\n",
              "      <th></th>\n",
              "      <th>InvoiceNo</th>\n",
              "      <th>StockCode</th>\n",
              "      <th>Description</th>\n",
              "      <th>Quantity</th>\n",
              "      <th>InvoiceDate</th>\n",
              "      <th>UnitPrice</th>\n",
              "      <th>CustomerID</th>\n",
              "      <th>Country</th>\n",
              "    </tr>\n",
              "  </thead>\n",
              "  <tbody>\n",
              "    <tr>\n",
              "      <th>0</th>\n",
              "      <td>536369</td>\n",
              "      <td>21756</td>\n",
              "      <td>BATH BUILDING BLOCK WORD</td>\n",
              "      <td>3</td>\n",
              "      <td>2010-12-01 08:35:00</td>\n",
              "      <td>5.95</td>\n",
              "      <td>13047.0</td>\n",
              "      <td>United Kingdom</td>\n",
              "    </tr>\n",
              "    <tr>\n",
              "      <th>1</th>\n",
              "      <td>536373</td>\n",
              "      <td>82482</td>\n",
              "      <td>WOODEN PICTURE FRAME WHITE FINISH</td>\n",
              "      <td>6</td>\n",
              "      <td>2010-12-01 09:02:00</td>\n",
              "      <td>2.10</td>\n",
              "      <td>17850.0</td>\n",
              "      <td>United Kingdom</td>\n",
              "    </tr>\n",
              "    <tr>\n",
              "      <th>2</th>\n",
              "      <td>536398</td>\n",
              "      <td>22752</td>\n",
              "      <td>SET 7 BABUSHKA NESTING BOXES</td>\n",
              "      <td>6</td>\n",
              "      <td>2010-12-01 10:52:00</td>\n",
              "      <td>8.50</td>\n",
              "      <td>13448.0</td>\n",
              "      <td>United Kingdom</td>\n",
              "    </tr>\n",
              "    <tr>\n",
              "      <th>3</th>\n",
              "      <td>536401</td>\n",
              "      <td>85150</td>\n",
              "      <td>LADIES &amp; GENTLEMEN METAL SIGN</td>\n",
              "      <td>1</td>\n",
              "      <td>2010-12-01 11:21:00</td>\n",
              "      <td>2.55</td>\n",
              "      <td>15862.0</td>\n",
              "      <td>United Kingdom</td>\n",
              "    </tr>\n",
              "    <tr>\n",
              "      <th>4</th>\n",
              "      <td>536404</td>\n",
              "      <td>20727</td>\n",
              "      <td>LUNCH BAG  BLACK SKULL.</td>\n",
              "      <td>10</td>\n",
              "      <td>2010-12-01 11:29:00</td>\n",
              "      <td>1.65</td>\n",
              "      <td>16218.0</td>\n",
              "      <td>United Kingdom</td>\n",
              "    </tr>\n",
              "    <tr>\n",
              "      <th>...</th>\n",
              "      <td>...</td>\n",
              "      <td>...</td>\n",
              "      <td>...</td>\n",
              "      <td>...</td>\n",
              "      <td>...</td>\n",
              "      <td>...</td>\n",
              "      <td>...</td>\n",
              "      <td>...</td>\n",
              "    </tr>\n",
              "    <tr>\n",
              "      <th>9995</th>\n",
              "      <td>581501</td>\n",
              "      <td>22942</td>\n",
              "      <td>CHRISTMAS LIGHTS 10 SANTAS</td>\n",
              "      <td>12</td>\n",
              "      <td>2011-12-09 10:46:00</td>\n",
              "      <td>2.95</td>\n",
              "      <td>12985.0</td>\n",
              "      <td>United Kingdom</td>\n",
              "    </tr>\n",
              "    <tr>\n",
              "      <th>9996</th>\n",
              "      <td>581572</td>\n",
              "      <td>22627</td>\n",
              "      <td>MINT KITCHEN SCALES</td>\n",
              "      <td>4</td>\n",
              "      <td>2011-12-09 12:08:00</td>\n",
              "      <td>8.50</td>\n",
              "      <td>16705.0</td>\n",
              "      <td>United Kingdom</td>\n",
              "    </tr>\n",
              "    <tr>\n",
              "      <th>9997</th>\n",
              "      <td>581578</td>\n",
              "      <td>21507</td>\n",
              "      <td>ELEPHANT BIRTHDAY CARD</td>\n",
              "      <td>12</td>\n",
              "      <td>2011-12-09 12:16:00</td>\n",
              "      <td>0.42</td>\n",
              "      <td>12713.0</td>\n",
              "      <td>Germany</td>\n",
              "    </tr>\n",
              "    <tr>\n",
              "      <th>9998</th>\n",
              "      <td>581579</td>\n",
              "      <td>23353</td>\n",
              "      <td>6 GIFT TAGS VINTAGE CHRISTMAS</td>\n",
              "      <td>12</td>\n",
              "      <td>2011-12-09 12:19:00</td>\n",
              "      <td>0.83</td>\n",
              "      <td>17581.0</td>\n",
              "      <td>United Kingdom</td>\n",
              "    </tr>\n",
              "    <tr>\n",
              "      <th>9999</th>\n",
              "      <td>581580</td>\n",
              "      <td>85049E</td>\n",
              "      <td>SCANDINAVIAN REDS RIBBONS</td>\n",
              "      <td>2</td>\n",
              "      <td>2011-12-09 12:20:00</td>\n",
              "      <td>1.25</td>\n",
              "      <td>12748.0</td>\n",
              "      <td>United Kingdom</td>\n",
              "    </tr>\n",
              "  </tbody>\n",
              "</table>\n",
              "<p>10000 rows × 8 columns</p>\n",
              "</div>"
            ],
            "text/plain": [
              "     InvoiceNo StockCode                        Description  Quantity  \\\n",
              "0       536369     21756           BATH BUILDING BLOCK WORD         3   \n",
              "1       536373     82482  WOODEN PICTURE FRAME WHITE FINISH         6   \n",
              "2       536398     22752       SET 7 BABUSHKA NESTING BOXES         6   \n",
              "3       536401     85150      LADIES & GENTLEMEN METAL SIGN         1   \n",
              "4       536404     20727            LUNCH BAG  BLACK SKULL.        10   \n",
              "...        ...       ...                                ...       ...   \n",
              "9995    581501     22942        CHRISTMAS LIGHTS 10 SANTAS         12   \n",
              "9996    581572     22627                MINT KITCHEN SCALES         4   \n",
              "9997    581578     21507            ELEPHANT BIRTHDAY CARD         12   \n",
              "9998    581579     23353     6 GIFT TAGS VINTAGE CHRISTMAS         12   \n",
              "9999    581580    85049E          SCANDINAVIAN REDS RIBBONS         2   \n",
              "\n",
              "             InvoiceDate  UnitPrice  CustomerID         Country  \n",
              "0    2010-12-01 08:35:00       5.95     13047.0  United Kingdom  \n",
              "1    2010-12-01 09:02:00       2.10     17850.0  United Kingdom  \n",
              "2    2010-12-01 10:52:00       8.50     13448.0  United Kingdom  \n",
              "3    2010-12-01 11:21:00       2.55     15862.0  United Kingdom  \n",
              "4    2010-12-01 11:29:00       1.65     16218.0  United Kingdom  \n",
              "...                  ...        ...         ...             ...  \n",
              "9995 2011-12-09 10:46:00       2.95     12985.0  United Kingdom  \n",
              "9996 2011-12-09 12:08:00       8.50     16705.0  United Kingdom  \n",
              "9997 2011-12-09 12:16:00       0.42     12713.0         Germany  \n",
              "9998 2011-12-09 12:19:00       0.83     17581.0  United Kingdom  \n",
              "9999 2011-12-09 12:20:00       1.25     12748.0  United Kingdom  \n",
              "\n",
              "[10000 rows x 8 columns]"
            ]
          },
          "execution_count": 5,
          "metadata": {},
          "output_type": "execute_result"
        }
      ],
      "source": [
        "data = pd.read_excel('https://github.com/fahmimnalfrzki/Additional-Materials/blob/main/online_retail_data.xlsx?raw=true').drop(columns='Unnamed: 0').sort_values('InvoiceDate',ascending=True).reset_index(drop=True)\n",
        "data"
      ]
    },
    {
      "cell_type": "code",
      "execution_count": 6,
      "metadata": {
        "colab": {
          "base_uri": "https://localhost:8080/"
        },
        "id": "agJpnpOhitYu",
        "outputId": "7718ff41-4331-4015-d62c-811eba2e5030"
      },
      "outputs": [
        {
          "data": {
            "text/plain": [
              "85099B    43\n",
              "85123A    40\n",
              "47566     40\n",
              "22423     36\n",
              "20725     31\n",
              "          ..\n",
              "22053      1\n",
              "22483      1\n",
              "22103      1\n",
              "84558A     1\n",
              "79190A     1\n",
              "Name: StockCode, Length: 2402, dtype: int64"
            ]
          },
          "execution_count": 6,
          "metadata": {},
          "output_type": "execute_result"
        }
      ],
      "source": [
        "data['StockCode'].value_counts()"
      ]
    },
    {
      "cell_type": "markdown",
      "metadata": {
        "id": "K0f8pNHhSYPt"
      },
      "source": [
        "### Single Sample Hypothesis Testing\n",
        "\n",
        "Let we play a role. Suppose that during the last five years, our daily income is \\$500 on average and during the last a year, we reach \\$580 a day on average. Is it means that we're improved significantly?"
      ]
    },
    {
      "cell_type": "code",
      "execution_count": 7,
      "metadata": {
        "colab": {
          "base_uri": "https://localhost:8080/"
        },
        "id": "RuQM2P3FOV5y",
        "outputId": "b30283d7-21e6-412f-cc4f-4508bfb5be0c"
      },
      "outputs": [
        {
          "name": "stdout",
          "output_type": "stream",
          "text": [
            "Average Income a Day for the last a year: $580.0\n"
          ]
        }
      ],
      "source": [
        "data['income'] = data['Quantity']*data['UnitPrice']\n",
        "data['date'] = data['InvoiceDate'].dt.date\n",
        "daily_income = data[['date','income']].groupby('date').sum()\n",
        "print('Average Income a Day for the last a year: ${}'.format(np.round(daily_income['income'].mean())))"
      ]
    },
    {
      "cell_type": "markdown",
      "metadata": {
        "id": "d2X_YkmmTH-a"
      },
      "source": [
        "To check whether our sales is significantly increase or not, we will perform the single sample one sided and set the significance level of 0.05. We use this method since we only test a variable and compare the sample (last a year data) and the population (we assume it is the last five years data).\n",
        "\n",
        "Our hypothesis on this case:\n",
        "\n",
        "**H0: μ <= \\$500**\n",
        "\n",
        "**H1: μ > \\$500**"
      ]
    },
    {
      "cell_type": "code",
      "execution_count": 8,
      "metadata": {
        "colab": {
          "base_uri": "https://localhost:8080/",
          "height": 455
        },
        "id": "s5vOqF2sfxLI",
        "outputId": "353454e4-b37b-4c41-8318-0e66eb577f00"
      },
      "outputs": [
        {
          "data": {
            "text/html": [
              "<div>\n",
              "<style scoped>\n",
              "    .dataframe tbody tr th:only-of-type {\n",
              "        vertical-align: middle;\n",
              "    }\n",
              "\n",
              "    .dataframe tbody tr th {\n",
              "        vertical-align: top;\n",
              "    }\n",
              "\n",
              "    .dataframe thead th {\n",
              "        text-align: right;\n",
              "    }\n",
              "</style>\n",
              "<table border=\"1\" class=\"dataframe\">\n",
              "  <thead>\n",
              "    <tr style=\"text-align: right;\">\n",
              "      <th></th>\n",
              "      <th>income</th>\n",
              "    </tr>\n",
              "    <tr>\n",
              "      <th>date</th>\n",
              "      <th></th>\n",
              "    </tr>\n",
              "  </thead>\n",
              "  <tbody>\n",
              "    <tr>\n",
              "      <th>2010-12-01</th>\n",
              "      <td>1000.20</td>\n",
              "    </tr>\n",
              "    <tr>\n",
              "      <th>2010-12-02</th>\n",
              "      <td>846.13</td>\n",
              "    </tr>\n",
              "    <tr>\n",
              "      <th>2010-12-03</th>\n",
              "      <td>924.86</td>\n",
              "    </tr>\n",
              "    <tr>\n",
              "      <th>2010-12-05</th>\n",
              "      <td>592.83</td>\n",
              "    </tr>\n",
              "    <tr>\n",
              "      <th>2010-12-06</th>\n",
              "      <td>1853.98</td>\n",
              "    </tr>\n",
              "    <tr>\n",
              "      <th>...</th>\n",
              "      <td>...</td>\n",
              "    </tr>\n",
              "    <tr>\n",
              "      <th>2011-12-05</th>\n",
              "      <td>1574.18</td>\n",
              "    </tr>\n",
              "    <tr>\n",
              "      <th>2011-12-06</th>\n",
              "      <td>1006.74</td>\n",
              "    </tr>\n",
              "    <tr>\n",
              "      <th>2011-12-07</th>\n",
              "      <td>467.56</td>\n",
              "    </tr>\n",
              "    <tr>\n",
              "      <th>2011-12-08</th>\n",
              "      <td>2969.21</td>\n",
              "    </tr>\n",
              "    <tr>\n",
              "      <th>2011-12-09</th>\n",
              "      <td>265.97</td>\n",
              "    </tr>\n",
              "  </tbody>\n",
              "</table>\n",
              "<p>305 rows × 1 columns</p>\n",
              "</div>"
            ],
            "text/plain": [
              "             income\n",
              "date               \n",
              "2010-12-01  1000.20\n",
              "2010-12-02   846.13\n",
              "2010-12-03   924.86\n",
              "2010-12-05   592.83\n",
              "2010-12-06  1853.98\n",
              "...             ...\n",
              "2011-12-05  1574.18\n",
              "2011-12-06  1006.74\n",
              "2011-12-07   467.56\n",
              "2011-12-08  2969.21\n",
              "2011-12-09   265.97\n",
              "\n",
              "[305 rows x 1 columns]"
            ]
          },
          "execution_count": 8,
          "metadata": {},
          "output_type": "execute_result"
        }
      ],
      "source": [
        "daily_income"
      ]
    },
    {
      "cell_type": "code",
      "execution_count": 9,
      "metadata": {
        "colab": {
          "base_uri": "https://localhost:8080/"
        },
        "id": "LdRxsCyKSCjc",
        "outputId": "3d50cfcc-fba9-4c31-d41a-8458b390a824"
      },
      "outputs": [
        {
          "name": "stdout",
          "output_type": "stream",
          "text": [
            "P-value: 0.0028745490601192387\n",
            "t-statistics: 2.781482852334568\n"
          ]
        }
      ],
      "source": [
        "t_stat,p_val = stats.ttest_1samp(daily_income.income, 500)\n",
        "print('P-value:',p_val/2) #The p-value divided by 2 since the output is two-sided p-value\n",
        "print('t-statistics:',t_stat)"
      ]
    },
    {
      "cell_type": "code",
      "execution_count": 10,
      "metadata": {
        "colab": {
          "base_uri": "https://localhost:8080/",
          "height": 393
        },
        "id": "XM8xq2CJmfN-",
        "outputId": "d0a024e7-d14d-4327-b084-bdbd9818ab59"
      },
      "outputs": [
        {
          "name": "stderr",
          "output_type": "stream",
          "text": [
            "C:\\Users\\OWNER\\anaconda3\\lib\\site-packages\\seaborn\\distributions.py:2619: FutureWarning: `distplot` is a deprecated function and will be removed in a future version. Please adapt your code to use either `displot` (a figure-level function with similar flexibility) or `histplot` (an axes-level function for histograms).\n",
            "  warnings.warn(msg, FutureWarning)\n"
          ]
        },
        {
          "data": {
            "text/plain": [
              "<matplotlib.legend.Legend at 0x2a078d03be0>"
            ]
          },
          "execution_count": 10,
          "metadata": {},
          "output_type": "execute_result"
        },
        {
          "data": {
            "image/png": "[encoded data removed]",
            "text/plain": [
              "<Figure size 1152x360 with 1 Axes>"
            ]
          },
          "metadata": {
            "needs_background": "light"
          },
          "output_type": "display_data"
        }
      ],
      "source": [
        "daily_income_pop = np.random.normal(daily_income.income.mean(), daily_income.income.std(), 10000)\n",
        "\n",
        "ci = stats.norm.interval(0.90, daily_income.income.mean(), daily_income.income.std())\n",
        "\n",
        "plt.figure(figsize=(16,5))\n",
        "sns.distplot(daily_income_pop, label='Daily Income (Population)', color='blue')\n",
        "plt.axvline(daily_income.income.mean(), color='red', linewidth=2, label='Daily Income (Mean)')\n",
        "plt.axvline(ci[1], color='green', linestyle='dashed', linewidth=2, label='confidence threshold of 95%')\n",
        "plt.axvline(daily_income_pop.mean() + t_stat*daily_income_pop.std(), color='black', linestyle='dashed', linewidth=2, label = 'Alternative Hypothesis')\n",
        "plt.legend()"
      ]
    },
    {
      "cell_type": "markdown",
      "metadata": {
        "id": "oQ3jU1B8VOTv"
      },
      "source": [
        "Since our p-value is less than 0.05, so we reject the null hypothesis and we can conclude that, our sales for the last a year is improved than the last five years. \n",
        "\n",
        "Note: T-statistics refers to how far the alternative hypothesis from null hypothesis away."
      ]
    },
    {
      "cell_type": "markdown",
      "metadata": {
        "id": "oTTOrZxQlZQ0"
      },
      "source": [
        "### One Sample Two Tailed"
      ]
    },
    {
      "cell_type": "markdown",
      "metadata": {
        "id": "RGOXpJ-3lc4s"
      },
      "source": [
        "Our hypothesis on this case:\n",
        "\n",
        "**H0: μ =\\$500**\n",
        "\n",
        "**H1: μ != \\$500**"
      ]
    },
    {
      "cell_type": "code",
      "execution_count": 11,
      "metadata": {
        "colab": {
          "base_uri": "https://localhost:8080/"
        },
        "id": "ww0K2MIJllR8",
        "outputId": "60ecc4a2-d80f-43dc-e946-3a6ffe2d0d8f"
      },
      "outputs": [
        {
          "name": "stdout",
          "output_type": "stream",
          "text": [
            "P-value: 0.005749098120238477\n",
            "t-statistics: 2.781482852334568\n"
          ]
        }
      ],
      "source": [
        "t_stat,p_val = stats.ttest_1samp(daily_income.income, 500)\n",
        "print('P-value:',p_val) #The p-value divided by 2 since the output is two-sided p-value\n",
        "print('t-statistics:',t_stat)"
      ]
    },
    {
      "cell_type": "code",
      "execution_count": 12,
      "metadata": {
        "colab": {
          "base_uri": "https://localhost:8080/",
          "height": 392
        },
        "id": "T7PgMzahl3C0",
        "outputId": "ba644c9b-c15f-4d18-bb0d-351327c3a779"
      },
      "outputs": [
        {
          "name": "stderr",
          "output_type": "stream",
          "text": [
            "C:\\Users\\OWNER\\anaconda3\\lib\\site-packages\\seaborn\\distributions.py:2619: FutureWarning: `distplot` is a deprecated function and will be removed in a future version. Please adapt your code to use either `displot` (a figure-level function with similar flexibility) or `histplot` (an axes-level function for histograms).\n",
            "  warnings.warn(msg, FutureWarning)\n"
          ]
        },
        {
          "data": {
            "text/plain": [
              "<matplotlib.legend.Legend at 0x2a078b79430>"
            ]
          },
          "execution_count": 12,
          "metadata": {},
          "output_type": "execute_result"
        },
        {
          "data": {
            "image/png": "[encoded data removed]",
            "text/plain": [
              "<Figure size 1152x360 with 1 Axes>"
            ]
          },
          "metadata": {
            "needs_background": "light"
          },
          "output_type": "display_data"
        }
      ],
      "source": [
        "daily_income_pop = np.random.normal(daily_income.income.mean(), daily_income.income.std(), 10000)\n",
        "\n",
        "ci = stats.norm.interval(0.95, daily_income.income.mean(), daily_income.income.std())\n",
        "\n",
        "plt.figure(figsize=(16,5))\n",
        "sns.distplot(daily_income_pop, label='Daily Income (Population)', color='blue')\n",
        "plt.axvline(daily_income.income.mean(), color='red', linewidth=2, label='Daily Income (Mean)')\n",
        "\n",
        "plt.axvline(ci[1], color='green', linestyle='dashed', linewidth=2, label='confidence threshold of 95%')\n",
        "plt.axvline(ci[0], color='green', linestyle='dashed', linewidth=2, label='confidence threshold of 95%')\n",
        "\n",
        "plt.axvline(daily_income_pop.mean() + t_stat*daily_income_pop.std(), color='black', linestyle='dashed', linewidth=2, label = 'Alternative Hypothesis')\n",
        "plt.axvline(daily_income_pop.mean() - t_stat*daily_income_pop.std(), color='black', linestyle='dashed', linewidth=2)\n",
        "plt.legend()"
      ]
    },
    {
      "cell_type": "markdown",
      "metadata": {
        "id": "TDk6rMRZbFQf"
      },
      "source": [
        "### Two Samples Independent Two Tailed Hypothesis Testing\n",
        "\n",
        "Now, we want to check, whether daily average of sales of two countries are significantly different or not using two samples independent two tailed test. We will pick sample of France and Germany."
      ]
    },
    {
      "cell_type": "code",
      "execution_count": 13,
      "metadata": {
        "colab": {
          "base_uri": "https://localhost:8080/"
        },
        "id": "XdEVSvqubSfk",
        "outputId": "db0fcee0-7564-4a3d-9f14-0f62be8c2fbd"
      },
      "outputs": [
        {
          "name": "stdout",
          "output_type": "stream",
          "text": [
            "Average sales of France a day: $32.0\n",
            "Average sales of Germany a day: $37.0\n"
          ]
        }
      ],
      "source": [
        "daily_france = data[data['Country']=='France'][['date','income']].groupby('date').sum()\n",
        "daily_germany = data[data['Country']=='Germany'][['date','income']].groupby('date').sum()\n",
        "\n",
        "print('Average sales of France a day: ${}'.format(np.round(daily_france.income.mean())))\n",
        "print('Average sales of Germany a day: ${}'.format(np.round(daily_germany.income.mean())))"
      ]
    },
    {
      "cell_type": "markdown",
      "metadata": {
        "id": "1Fijn7LgquIr"
      },
      "source": [
        "Our hypothesis on this case:\n",
        "\n",
        "**H0: μ_france = μ_germany**\n",
        "\n",
        "**H1: μ_france != μ_germany**"
      ]
    },
    {
      "cell_type": "code",
      "execution_count": 14,
      "metadata": {
        "colab": {
          "base_uri": "https://localhost:8080/"
        },
        "id": "9prVBBcZoy4o",
        "outputId": "bbe88c15-5d71-45c6-8e64-ad39f1079585"
      },
      "outputs": [
        {
          "name": "stdout",
          "output_type": "stream",
          "text": [
            "P-value: 0.42798052232930384\n",
            "t-statistics: -0.7943449043302956\n"
          ]
        }
      ],
      "source": [
        "t_stat, p_val = stats.ttest_ind(daily_france,daily_germany)\n",
        "print('P-value:',p_val[0]) #the p-value isn't divided by 2 since the output is two-sided p-value\n",
        "print('t-statistics:',t_stat[0])"
      ]
    },
    {
      "cell_type": "code",
      "execution_count": 15,
      "metadata": {
        "colab": {
          "base_uri": "https://localhost:8080/",
          "height": 426
        },
        "id": "dU4Uhgqv6OV3",
        "outputId": "c7e29596-54e7-4737-fa31-edbdbbba046a"
      },
      "outputs": [
        {
          "name": "stderr",
          "output_type": "stream",
          "text": [
            "C:\\Users\\OWNER\\anaconda3\\lib\\site-packages\\seaborn\\distributions.py:2619: FutureWarning: `distplot` is a deprecated function and will be removed in a future version. Please adapt your code to use either `displot` (a figure-level function with similar flexibility) or `histplot` (an axes-level function for histograms).\n",
            "  warnings.warn(msg, FutureWarning)\n",
            "C:\\Users\\OWNER\\anaconda3\\lib\\site-packages\\seaborn\\distributions.py:2619: FutureWarning: `distplot` is a deprecated function and will be removed in a future version. Please adapt your code to use either `displot` (a figure-level function with similar flexibility) or `histplot` (an axes-level function for histograms).\n",
            "  warnings.warn(msg, FutureWarning)\n"
          ]
        },
        {
          "data": {
            "text/plain": [
              "<matplotlib.legend.Legend at 0x2a078ec5190>"
            ]
          },
          "execution_count": 15,
          "metadata": {},
          "output_type": "execute_result"
        },
        {
          "data": {
            "image/png": "[encoded data removed]",
            "text/plain": [
              "<Figure size 1152x360 with 1 Axes>"
            ]
          },
          "metadata": {
            "needs_background": "light"
          },
          "output_type": "display_data"
        }
      ],
      "source": [
        "france_pop = np.random.normal(daily_france.income.mean(),daily_france.income.std(),10000)\n",
        "germany_pop = np.random.normal(daily_germany.income.mean(),daily_germany.income.std(),10000)\n",
        "\n",
        "ci = stats.norm.interval(0.95, daily_france.income.mean(), daily_france.income.std())\n",
        "plt.figure(figsize=(16,5))\n",
        "sns.distplot(france_pop, label='France Average Sales a Day *Pop',color='blue')\n",
        "sns.distplot(germany_pop, label='Germany Average Sales a Day *Pop',color='red')\n",
        "\n",
        "plt.axvline(daily_france.income.mean(), color='blue', linewidth=2, label='France mean')\n",
        "plt.axvline(daily_germany.income.mean(), color='red',  linewidth=2, label='Germany mean')\n",
        "\n",
        "plt.axvline(ci[1], color='green', linestyle='dashed', linewidth=2, label='confidence threshold of 95%')\n",
        "plt.axvline(ci[0], color='green', linestyle='dashed', linewidth=2)\n",
        "\n",
        "plt.axvline(france_pop.mean()+t_stat[0]*france_pop.std(), color='black', linestyle='dashed', linewidth=2, label = 'Alternative Hypothesis')\n",
        "plt.axvline(france_pop.mean()-t_stat[0]*france_pop.std(), color='black', linestyle='dashed', linewidth=2)\n",
        "\n",
        "plt.legend()"
      ]
    },
    {
      "cell_type": "markdown",
      "metadata": {
        "id": "K5ljS7cK6FYx"
      },
      "source": [
        "Based on the result above, we can conclude that we accept the null hypothesis which between the france and germany are not significantly different in terms of average sales per day."
      ]
    },
    {
      "cell_type": "markdown",
      "metadata": {
        "id": "wzcuVPo0tmf_"
      },
      "source": [
        "## ANOVA\n",
        "\n",
        "ANOVA is similar to the t-test. It used for testing whether more than two variables are significantly different or not. So, we will test whether the mean of daily sales of IEV,N8U, and U5F are significantly different or not."
      ]
    },
    {
      "cell_type": "code",
      "execution_count": 16,
      "metadata": {
        "colab": {
          "base_uri": "https://localhost:8080/",
          "height": 424
        },
        "id": "ZI2edvUmtnGn",
        "outputId": "322ab225-a81a-48d8-d43d-2ca5c992ed46"
      },
      "outputs": [
        {
          "data": {
            "text/html": [
              "<div>\n",
              "<style scoped>\n",
              "    .dataframe tbody tr th:only-of-type {\n",
              "        vertical-align: middle;\n",
              "    }\n",
              "\n",
              "    .dataframe tbody tr th {\n",
              "        vertical-align: top;\n",
              "    }\n",
              "\n",
              "    .dataframe thead th {\n",
              "        text-align: right;\n",
              "    }\n",
              "</style>\n",
              "<table border=\"1\" class=\"dataframe\">\n",
              "  <thead>\n",
              "    <tr style=\"text-align: right;\">\n",
              "      <th></th>\n",
              "      <th>Unnamed: 0</th>\n",
              "      <th>Date</th>\n",
              "      <th>Customer_ID</th>\n",
              "      <th>Transaction_ID</th>\n",
              "      <th>SKU_Category</th>\n",
              "      <th>SKU</th>\n",
              "      <th>Quantity</th>\n",
              "      <th>Sales_Amount</th>\n",
              "    </tr>\n",
              "  </thead>\n",
              "  <tbody>\n",
              "    <tr>\n",
              "      <th>0</th>\n",
              "      <td>1</td>\n",
              "      <td>02/01/2016</td>\n",
              "      <td>2547</td>\n",
              "      <td>1</td>\n",
              "      <td>X52</td>\n",
              "      <td>0EM7L</td>\n",
              "      <td>1.0</td>\n",
              "      <td>3.13</td>\n",
              "    </tr>\n",
              "    <tr>\n",
              "      <th>1</th>\n",
              "      <td>2</td>\n",
              "      <td>02/01/2016</td>\n",
              "      <td>822</td>\n",
              "      <td>2</td>\n",
              "      <td>2ML</td>\n",
              "      <td>68BRQ</td>\n",
              "      <td>1.0</td>\n",
              "      <td>5.46</td>\n",
              "    </tr>\n",
              "    <tr>\n",
              "      <th>2</th>\n",
              "      <td>3</td>\n",
              "      <td>02/01/2016</td>\n",
              "      <td>3686</td>\n",
              "      <td>3</td>\n",
              "      <td>0H2</td>\n",
              "      <td>CZUZX</td>\n",
              "      <td>1.0</td>\n",
              "      <td>6.35</td>\n",
              "    </tr>\n",
              "    <tr>\n",
              "      <th>3</th>\n",
              "      <td>4</td>\n",
              "      <td>02/01/2016</td>\n",
              "      <td>3719</td>\n",
              "      <td>4</td>\n",
              "      <td>0H2</td>\n",
              "      <td>549KK</td>\n",
              "      <td>1.0</td>\n",
              "      <td>5.59</td>\n",
              "    </tr>\n",
              "    <tr>\n",
              "      <th>4</th>\n",
              "      <td>5</td>\n",
              "      <td>02/01/2016</td>\n",
              "      <td>9200</td>\n",
              "      <td>5</td>\n",
              "      <td>0H2</td>\n",
              "      <td>K8EHH</td>\n",
              "      <td>1.0</td>\n",
              "      <td>6.88</td>\n",
              "    </tr>\n",
              "    <tr>\n",
              "      <th>...</th>\n",
              "      <td>...</td>\n",
              "      <td>...</td>\n",
              "      <td>...</td>\n",
              "      <td>...</td>\n",
              "      <td>...</td>\n",
              "      <td>...</td>\n",
              "      <td>...</td>\n",
              "      <td>...</td>\n",
              "    </tr>\n",
              "    <tr>\n",
              "      <th>131701</th>\n",
              "      <td>131702</td>\n",
              "      <td>04/07/2016</td>\n",
              "      <td>20203</td>\n",
              "      <td>32900</td>\n",
              "      <td>IEV</td>\n",
              "      <td>FO112</td>\n",
              "      <td>3.0</td>\n",
              "      <td>6.46</td>\n",
              "    </tr>\n",
              "    <tr>\n",
              "      <th>131702</th>\n",
              "      <td>131703</td>\n",
              "      <td>04/07/2016</td>\n",
              "      <td>20203</td>\n",
              "      <td>32900</td>\n",
              "      <td>N8U</td>\n",
              "      <td>I36F2</td>\n",
              "      <td>1.0</td>\n",
              "      <td>4.50</td>\n",
              "    </tr>\n",
              "    <tr>\n",
              "      <th>131703</th>\n",
              "      <td>131704</td>\n",
              "      <td>04/07/2016</td>\n",
              "      <td>20203</td>\n",
              "      <td>32900</td>\n",
              "      <td>U5F</td>\n",
              "      <td>4X8P4</td>\n",
              "      <td>1.0</td>\n",
              "      <td>5.19</td>\n",
              "    </tr>\n",
              "    <tr>\n",
              "      <th>131704</th>\n",
              "      <td>131705</td>\n",
              "      <td>04/07/2016</td>\n",
              "      <td>20203</td>\n",
              "      <td>32900</td>\n",
              "      <td>0H2</td>\n",
              "      <td>ZVTO4</td>\n",
              "      <td>1.0</td>\n",
              "      <td>4.57</td>\n",
              "    </tr>\n",
              "    <tr>\n",
              "      <th>131705</th>\n",
              "      <td>131706</td>\n",
              "      <td>04/07/2016</td>\n",
              "      <td>20203</td>\n",
              "      <td>32900</td>\n",
              "      <td>Q4N</td>\n",
              "      <td>QM9BP</td>\n",
              "      <td>1.0</td>\n",
              "      <td>13.68</td>\n",
              "    </tr>\n",
              "  </tbody>\n",
              "</table>\n",
              "<p>131706 rows × 8 columns</p>\n",
              "</div>"
            ],
            "text/plain": [
              "        Unnamed: 0        Date  Customer_ID  Transaction_ID SKU_Category  \\\n",
              "0                1  02/01/2016         2547               1          X52   \n",
              "1                2  02/01/2016          822               2          2ML   \n",
              "2                3  02/01/2016         3686               3          0H2   \n",
              "3                4  02/01/2016         3719               4          0H2   \n",
              "4                5  02/01/2016         9200               5          0H2   \n",
              "...            ...         ...          ...             ...          ...   \n",
              "131701      131702  04/07/2016        20203           32900          IEV   \n",
              "131702      131703  04/07/2016        20203           32900          N8U   \n",
              "131703      131704  04/07/2016        20203           32900          U5F   \n",
              "131704      131705  04/07/2016        20203           32900          0H2   \n",
              "131705      131706  04/07/2016        20203           32900          Q4N   \n",
              "\n",
              "          SKU  Quantity  Sales_Amount  \n",
              "0       0EM7L       1.0          3.13  \n",
              "1       68BRQ       1.0          5.46  \n",
              "2       CZUZX       1.0          6.35  \n",
              "3       549KK       1.0          5.59  \n",
              "4       K8EHH       1.0          6.88  \n",
              "...       ...       ...           ...  \n",
              "131701  FO112       3.0          6.46  \n",
              "131702  I36F2       1.0          4.50  \n",
              "131703  4X8P4       1.0          5.19  \n",
              "131704  ZVTO4       1.0          4.57  \n",
              "131705  QM9BP       1.0         13.68  \n",
              "\n",
              "[131706 rows x 8 columns]"
            ]
          },
          "execution_count": 16,
          "metadata": {},
          "output_type": "execute_result"
        }
      ],
      "source": [
        "scanner_data = pd.read_csv('https://raw.githubusercontent.com/fahmimnalfrzki/Additional-Materials/main/scanner_data.csv')\n",
        "scanner_data"
      ]
    },
    {
      "cell_type": "code",
      "execution_count": 17,
      "metadata": {
        "colab": {
          "base_uri": "https://localhost:8080/",
          "height": 455
        },
        "id": "2KVhaWR8ttc9",
        "outputId": "6656aff8-b86c-4d31-affe-96ea7ec9f603"
      },
      "outputs": [
        {
          "data": {
            "text/html": [
              "<div>\n",
              "<style scoped>\n",
              "    .dataframe tbody tr th:only-of-type {\n",
              "        vertical-align: middle;\n",
              "    }\n",
              "\n",
              "    .dataframe tbody tr th {\n",
              "        vertical-align: top;\n",
              "    }\n",
              "\n",
              "    .dataframe thead th {\n",
              "        text-align: right;\n",
              "    }\n",
              "</style>\n",
              "<table border=\"1\" class=\"dataframe\">\n",
              "  <thead>\n",
              "    <tr style=\"text-align: right;\">\n",
              "      <th></th>\n",
              "      <th>Unnamed: 0</th>\n",
              "      <th>Customer_ID</th>\n",
              "      <th>Transaction_ID</th>\n",
              "      <th>Quantity</th>\n",
              "      <th>Sales_Amount</th>\n",
              "    </tr>\n",
              "    <tr>\n",
              "      <th>Date</th>\n",
              "      <th></th>\n",
              "      <th></th>\n",
              "      <th></th>\n",
              "      <th></th>\n",
              "      <th></th>\n",
              "    </tr>\n",
              "  </thead>\n",
              "  <tbody>\n",
              "    <tr>\n",
              "      <th>01/02/2016</th>\n",
              "      <td>3923150</td>\n",
              "      <td>1620617</td>\n",
              "      <td>1896805</td>\n",
              "      <td>482.75</td>\n",
              "      <td>4341.46</td>\n",
              "    </tr>\n",
              "    <tr>\n",
              "      <th>01/03/2016</th>\n",
              "      <td>7432990</td>\n",
              "      <td>1616766</td>\n",
              "      <td>3579179</td>\n",
              "      <td>497.00</td>\n",
              "      <td>4436.42</td>\n",
              "    </tr>\n",
              "    <tr>\n",
              "      <th>01/04/2016</th>\n",
              "      <td>14016165</td>\n",
              "      <td>4846347</td>\n",
              "      <td>6867307</td>\n",
              "      <td>553.00</td>\n",
              "      <td>4637.34</td>\n",
              "    </tr>\n",
              "    <tr>\n",
              "      <th>01/05/2016</th>\n",
              "      <td>7644374</td>\n",
              "      <td>1820535</td>\n",
              "      <td>3779664</td>\n",
              "      <td>217.00</td>\n",
              "      <td>1514.17</td>\n",
              "    </tr>\n",
              "    <tr>\n",
              "      <th>01/06/2016</th>\n",
              "      <td>19708741</td>\n",
              "      <td>5149729</td>\n",
              "      <td>9793228</td>\n",
              "      <td>572.66</td>\n",
              "      <td>4750.01</td>\n",
              "    </tr>\n",
              "    <tr>\n",
              "      <th>...</th>\n",
              "      <td>...</td>\n",
              "      <td>...</td>\n",
              "      <td>...</td>\n",
              "      <td>...</td>\n",
              "      <td>...</td>\n",
              "    </tr>\n",
              "    <tr>\n",
              "      <th>31/05/2016</th>\n",
              "      <td>19960359</td>\n",
              "      <td>5266971</td>\n",
              "      <td>9915835</td>\n",
              "      <td>522.00</td>\n",
              "      <td>4186.64</td>\n",
              "    </tr>\n",
              "    <tr>\n",
              "      <th>31/07/2016</th>\n",
              "      <td>16666761</td>\n",
              "      <td>1896920</td>\n",
              "      <td>4742452</td>\n",
              "      <td>169.00</td>\n",
              "      <td>1341.96</td>\n",
              "    </tr>\n",
              "    <tr>\n",
              "      <th>31/08/2016</th>\n",
              "      <td>24788181</td>\n",
              "      <td>4674456</td>\n",
              "      <td>13660542</td>\n",
              "      <td>477.67</td>\n",
              "      <td>3955.78</td>\n",
              "    </tr>\n",
              "    <tr>\n",
              "      <th>31/10/2016</th>\n",
              "      <td>38037247</td>\n",
              "      <td>6012329</td>\n",
              "      <td>19834981</td>\n",
              "      <td>678.33</td>\n",
              "      <td>4691.38</td>\n",
              "    </tr>\n",
              "    <tr>\n",
              "      <th>31/12/2016</th>\n",
              "      <td>24216722</td>\n",
              "      <td>2843852</td>\n",
              "      <td>12215471</td>\n",
              "      <td>216.00</td>\n",
              "      <td>1713.20</td>\n",
              "    </tr>\n",
              "  </tbody>\n",
              "</table>\n",
              "<p>363 rows × 5 columns</p>\n",
              "</div>"
            ],
            "text/plain": [
              "            Unnamed: 0  Customer_ID  Transaction_ID  Quantity  Sales_Amount\n",
              "Date                                                                       \n",
              "01/02/2016     3923150      1620617         1896805    482.75       4341.46\n",
              "01/03/2016     7432990      1616766         3579179    497.00       4436.42\n",
              "01/04/2016    14016165      4846347         6867307    553.00       4637.34\n",
              "01/05/2016     7644374      1820535         3779664    217.00       1514.17\n",
              "01/06/2016    19708741      5149729         9793228    572.66       4750.01\n",
              "...                ...          ...             ...       ...           ...\n",
              "31/05/2016    19960359      5266971         9915835    522.00       4186.64\n",
              "31/07/2016    16666761      1896920         4742452    169.00       1341.96\n",
              "31/08/2016    24788181      4674456        13660542    477.67       3955.78\n",
              "31/10/2016    38037247      6012329        19834981    678.33       4691.38\n",
              "31/12/2016    24216722      2843852        12215471    216.00       1713.20\n",
              "\n",
              "[363 rows x 5 columns]"
            ]
          },
          "execution_count": 17,
          "metadata": {},
          "output_type": "execute_result"
        }
      ],
      "source": [
        "scanner_data.groupby('Date').sum()"
      ]
    },
    {
      "cell_type": "code",
      "execution_count": 18,
      "metadata": {
        "colab": {
          "base_uri": "https://localhost:8080/"
        },
        "id": "J9lPbp7atvYO",
        "outputId": "060a6ab0-2a30-4cb3-f171-33cd7932439a"
      },
      "outputs": [
        {
          "name": "stdout",
          "output_type": "stream",
          "text": [
            "Daily Average of IEV 22.915254237288135\n",
            "Daily Average of N8U 33.46556473829201\n",
            "Daily Average of U5F 22.610340909090908\n"
          ]
        }
      ],
      "source": [
        "IEV_quantity = scanner_data[scanner_data.SKU_Category == 'IEV'].groupby('Date').sum()['Quantity']\n",
        "N8U_quantity = scanner_data[scanner_data.SKU_Category == 'N8U'].groupby('Date').sum()['Quantity']\n",
        "U5F_quantity = scanner_data[scanner_data.SKU_Category == 'U5F'].groupby('Date').sum()['Quantity']\n",
        "\n",
        "print(\"Daily Average of IEV\",IEV_quantity.mean())\n",
        "print(\"Daily Average of N8U\",N8U_quantity.mean())\n",
        "print(\"Daily Average of U5F\",U5F_quantity.mean())"
      ]
    },
    {
      "cell_type": "markdown",
      "metadata": {
        "id": "QTP89b3Lt1L4"
      },
      "source": [
        "It seems that they are significantly different since N8U average is 33s and the rest is 22s."
      ]
    },
    {
      "cell_type": "code",
      "execution_count": 19,
      "metadata": {
        "colab": {
          "base_uri": "https://localhost:8080/"
        },
        "id": "R0nEPkOpt2pq",
        "outputId": "1302fd96-0b80-45f5-f6e7-9879870e3fbb"
      },
      "outputs": [
        {
          "name": "stdout",
          "output_type": "stream",
          "text": [
            "P-value: 6.049412282955515e-36\n"
          ]
        }
      ],
      "source": [
        "f_stat,p_value = stats.f_oneway(IEV_quantity, N8U_quantity, U5F_quantity)\n",
        "print('P-value:',p_value)"
      ]
    },
    {
      "cell_type": "markdown",
      "metadata": {
        "id": "IJK-HmkNt27o"
      },
      "source": [
        "since the p-value is below 0.05, then we conclude that the difference of IEV, N8U, and U5F is statistically significant."
      ]
    },
    {
      "cell_type": "markdown",
      "metadata": {
        "id": "NKXp2wDu8Vmb"
      },
      "source": [
        "## Paired Test\n",
        "**Implementation on A/B Testing**\n",
        "\n",
        "We're dealing with the marketing division of game developer company to analyze which game version that tend to give more retention rate? Is it correct that we upgrade our game from gate 30 to gate 40 version? (Data from https://www.kaggle.com/yufengsui/mobile-games-ab-testing) We will use retention_1 data which capture the information that did the player come back and play 1 day after installing."
      ]
    },
    {
      "cell_type": "code",
      "execution_count": 20,
      "metadata": {
        "colab": {
          "base_uri": "https://localhost:8080/",
          "height": 424
        },
        "id": "wAr21OQ18eRT",
        "outputId": "01c9b619-3d13-4532-b7b6-d82c3974f84f"
      },
      "outputs": [
        {
          "data": {
            "text/html": [
              "<div>\n",
              "<style scoped>\n",
              "    .dataframe tbody tr th:only-of-type {\n",
              "        vertical-align: middle;\n",
              "    }\n",
              "\n",
              "    .dataframe tbody tr th {\n",
              "        vertical-align: top;\n",
              "    }\n",
              "\n",
              "    .dataframe thead th {\n",
              "        text-align: right;\n",
              "    }\n",
              "</style>\n",
              "<table border=\"1\" class=\"dataframe\">\n",
              "  <thead>\n",
              "    <tr style=\"text-align: right;\">\n",
              "      <th></th>\n",
              "      <th>userid</th>\n",
              "      <th>version</th>\n",
              "      <th>sum_gamerounds</th>\n",
              "      <th>retention_1</th>\n",
              "      <th>retention_7</th>\n",
              "    </tr>\n",
              "  </thead>\n",
              "  <tbody>\n",
              "    <tr>\n",
              "      <th>0</th>\n",
              "      <td>116</td>\n",
              "      <td>gate_30</td>\n",
              "      <td>3</td>\n",
              "      <td>False</td>\n",
              "      <td>False</td>\n",
              "    </tr>\n",
              "    <tr>\n",
              "      <th>1</th>\n",
              "      <td>337</td>\n",
              "      <td>gate_30</td>\n",
              "      <td>38</td>\n",
              "      <td>True</td>\n",
              "      <td>False</td>\n",
              "    </tr>\n",
              "    <tr>\n",
              "      <th>2</th>\n",
              "      <td>377</td>\n",
              "      <td>gate_40</td>\n",
              "      <td>165</td>\n",
              "      <td>True</td>\n",
              "      <td>False</td>\n",
              "    </tr>\n",
              "    <tr>\n",
              "      <th>3</th>\n",
              "      <td>483</td>\n",
              "      <td>gate_40</td>\n",
              "      <td>1</td>\n",
              "      <td>False</td>\n",
              "      <td>False</td>\n",
              "    </tr>\n",
              "    <tr>\n",
              "      <th>4</th>\n",
              "      <td>488</td>\n",
              "      <td>gate_40</td>\n",
              "      <td>179</td>\n",
              "      <td>True</td>\n",
              "      <td>True</td>\n",
              "    </tr>\n",
              "    <tr>\n",
              "      <th>...</th>\n",
              "      <td>...</td>\n",
              "      <td>...</td>\n",
              "      <td>...</td>\n",
              "      <td>...</td>\n",
              "      <td>...</td>\n",
              "    </tr>\n",
              "    <tr>\n",
              "      <th>90184</th>\n",
              "      <td>9999441</td>\n",
              "      <td>gate_40</td>\n",
              "      <td>97</td>\n",
              "      <td>True</td>\n",
              "      <td>False</td>\n",
              "    </tr>\n",
              "    <tr>\n",
              "      <th>90185</th>\n",
              "      <td>9999479</td>\n",
              "      <td>gate_40</td>\n",
              "      <td>30</td>\n",
              "      <td>False</td>\n",
              "      <td>False</td>\n",
              "    </tr>\n",
              "    <tr>\n",
              "      <th>90186</th>\n",
              "      <td>9999710</td>\n",
              "      <td>gate_30</td>\n",
              "      <td>28</td>\n",
              "      <td>True</td>\n",
              "      <td>False</td>\n",
              "    </tr>\n",
              "    <tr>\n",
              "      <th>90187</th>\n",
              "      <td>9999768</td>\n",
              "      <td>gate_40</td>\n",
              "      <td>51</td>\n",
              "      <td>True</td>\n",
              "      <td>False</td>\n",
              "    </tr>\n",
              "    <tr>\n",
              "      <th>90188</th>\n",
              "      <td>9999861</td>\n",
              "      <td>gate_40</td>\n",
              "      <td>16</td>\n",
              "      <td>False</td>\n",
              "      <td>False</td>\n",
              "    </tr>\n",
              "  </tbody>\n",
              "</table>\n",
              "<p>90189 rows × 5 columns</p>\n",
              "</div>"
            ],
            "text/plain": [
              "        userid  version  sum_gamerounds  retention_1  retention_7\n",
              "0          116  gate_30               3        False        False\n",
              "1          337  gate_30              38         True        False\n",
              "2          377  gate_40             165         True        False\n",
              "3          483  gate_40               1        False        False\n",
              "4          488  gate_40             179         True         True\n",
              "...        ...      ...             ...          ...          ...\n",
              "90184  9999441  gate_40              97         True        False\n",
              "90185  9999479  gate_40              30        False        False\n",
              "90186  9999710  gate_30              28         True        False\n",
              "90187  9999768  gate_40              51         True        False\n",
              "90188  9999861  gate_40              16        False        False\n",
              "\n",
              "[90189 rows x 5 columns]"
            ]
          },
          "execution_count": 20,
          "metadata": {},
          "output_type": "execute_result"
        }
      ],
      "source": [
        "cookie_cats = pd.read_csv('https://raw.githubusercontent.com/fahmimnalfrzki/Additional-Materials/main/cookie_cats.csv')\n",
        "cookie_cats"
      ]
    },
    {
      "cell_type": "code",
      "execution_count": 21,
      "metadata": {
        "colab": {
          "base_uri": "https://localhost:8080/"
        },
        "id": "9eGqWn9JXlNs",
        "outputId": "a1dd0dc9-ad95-4d70-b467-b14cfe534f56"
      },
      "outputs": [
        {
          "name": "stdout",
          "output_type": "stream",
          "text": [
            "Retention rate of gate 30 version: 0.4481879194630872\n",
            "Retention rate of gate 40 version: 0.44228274967574577\n"
          ]
        }
      ],
      "source": [
        "gate_30 = cookie_cats[cookie_cats['version']=='gate_30']['retention_1'].replace({True:1,False:0})\n",
        "gate_40 = cookie_cats[cookie_cats['version']=='gate_40']['retention_1'].replace({True:1,False:0})\n",
        "\n",
        "print('Retention rate of gate 30 version:',gate_30.sum()/gate_30.count())\n",
        "print('Retention rate of gate 40 version:',gate_40.sum()/gate_40.count())"
      ]
    },
    {
      "cell_type": "code",
      "execution_count": 22,
      "metadata": {
        "colab": {
          "base_uri": "https://localhost:8080/"
        },
        "id": "R9VBzIbWsEjx",
        "outputId": "5eead0d4-9e2f-4d2f-dd9f-20fd63109e48"
      },
      "outputs": [
        {
          "data": {
            "text/plain": [
              "0        0\n",
              "1        1\n",
              "6        0\n",
              "11       0\n",
              "13       1\n",
              "        ..\n",
              "90179    1\n",
              "90180    0\n",
              "90182    1\n",
              "90183    0\n",
              "90186    1\n",
              "Name: retention_1, Length: 44700, dtype: int64"
            ]
          },
          "execution_count": 22,
          "metadata": {},
          "output_type": "execute_result"
        }
      ],
      "source": [
        "gate_30"
      ]
    },
    {
      "cell_type": "code",
      "execution_count": 23,
      "metadata": {
        "colab": {
          "base_uri": "https://localhost:8080/"
        },
        "id": "vC6YVVXRsF_J",
        "outputId": "4b8af94c-77e1-4d21-a71d-bb76951ef815"
      },
      "outputs": [
        {
          "data": {
            "text/plain": [
              "2        1\n",
              "3        0\n",
              "4        1\n",
              "5        1\n",
              "7        0\n",
              "        ..\n",
              "90181    1\n",
              "90184    1\n",
              "90185    0\n",
              "90187    1\n",
              "90188    0\n",
              "Name: retention_1, Length: 45489, dtype: int64"
            ]
          },
          "execution_count": 23,
          "metadata": {},
          "output_type": "execute_result"
        }
      ],
      "source": [
        "gate_40"
      ]
    },
    {
      "cell_type": "markdown",
      "metadata": {
        "id": "QARuvr2IYpQ1"
      },
      "source": [
        "The retention rate between those versions is slightly different. Is the difference truly the same or because of chance?\n",
        "\n",
        "To make sure of our result, we will check using paired test two sided.\n",
        "\n",
        "Our hypothesis on this case:\n",
        "\n",
        "**H0: μ_gate30 = μ_gate40**\n",
        "\n",
        "**H1: μ_gate30 != μ_gate40**"
      ]
    },
    {
      "cell_type": "code",
      "execution_count": 24,
      "metadata": {
        "colab": {
          "base_uri": "https://localhost:8080/"
        },
        "id": "n0kHhWsbYoWr",
        "outputId": "351bc5ef-a566-4530-a51f-91db282ea9d7"
      },
      "outputs": [
        {
          "name": "stdout",
          "output_type": "stream",
          "text": [
            "P-value: 0.057941358056651446\n"
          ]
        }
      ],
      "source": [
        "t_stat,p_val = stats.ttest_rel(gate_30.sample(40000),gate_40.sample(40000)) #we take 40000 sample of each data to make the size the same.\n",
        "print('P-value:',p_val)"
      ]
    },
    {
      "cell_type": "markdown",
      "metadata": {
        "id": "zOg7PKVPZ391"
      },
      "source": [
        "Since the p-value is more than 0.05, we conclude that we accept the Null hypothesis which means between gate 30 and 40 version is the same. We safely upgrade our game into gate 40 version."
      ]
    },
    {
      "cell_type": "markdown",
      "metadata": {
        "id": "N415uzlNt7lx"
      },
      "source": [
        "## Chi-Square Test\n",
        "\n",
        "Chi-square test is used for testing of independence between two categorical data. Since statistics handling the numerical data, we need to calculate the frequency of each variable and presented by a contingency table."
      ]
    },
    {
      "cell_type": "code",
      "execution_count": 25,
      "metadata": {
        "colab": {
          "base_uri": "https://localhost:8080/",
          "height": 331
        },
        "id": "N2GfoVktt7-H",
        "outputId": "2911391a-c080-48f7-dd1e-e611c7934054"
      },
      "outputs": [
        {
          "data": {
            "text/html": [
              "<div>\n",
              "<style scoped>\n",
              "    .dataframe tbody tr th:only-of-type {\n",
              "        vertical-align: middle;\n",
              "    }\n",
              "\n",
              "    .dataframe tbody tr th {\n",
              "        vertical-align: top;\n",
              "    }\n",
              "\n",
              "    .dataframe thead th {\n",
              "        text-align: right;\n",
              "    }\n",
              "</style>\n",
              "<table border=\"1\" class=\"dataframe\">\n",
              "  <thead>\n",
              "    <tr style=\"text-align: right;\">\n",
              "      <th></th>\n",
              "      <th>Gender</th>\n",
              "      <th>Like Shopping?</th>\n",
              "    </tr>\n",
              "  </thead>\n",
              "  <tbody>\n",
              "    <tr>\n",
              "      <th>0</th>\n",
              "      <td>Male</td>\n",
              "      <td>No</td>\n",
              "    </tr>\n",
              "    <tr>\n",
              "      <th>1</th>\n",
              "      <td>Female</td>\n",
              "      <td>Yes</td>\n",
              "    </tr>\n",
              "    <tr>\n",
              "      <th>2</th>\n",
              "      <td>Male</td>\n",
              "      <td>Yes</td>\n",
              "    </tr>\n",
              "    <tr>\n",
              "      <th>3</th>\n",
              "      <td>Female</td>\n",
              "      <td>Yes</td>\n",
              "    </tr>\n",
              "    <tr>\n",
              "      <th>4</th>\n",
              "      <td>Female</td>\n",
              "      <td>Yes</td>\n",
              "    </tr>\n",
              "    <tr>\n",
              "      <th>5</th>\n",
              "      <td>Male</td>\n",
              "      <td>Yes</td>\n",
              "    </tr>\n",
              "    <tr>\n",
              "      <th>6</th>\n",
              "      <td>Male</td>\n",
              "      <td>No</td>\n",
              "    </tr>\n",
              "    <tr>\n",
              "      <th>7</th>\n",
              "      <td>Female</td>\n",
              "      <td>No</td>\n",
              "    </tr>\n",
              "    <tr>\n",
              "      <th>8</th>\n",
              "      <td>Female</td>\n",
              "      <td>No</td>\n",
              "    </tr>\n",
              "  </tbody>\n",
              "</table>\n",
              "</div>"
            ],
            "text/plain": [
              "   Gender Like Shopping?\n",
              "0    Male             No\n",
              "1  Female            Yes\n",
              "2    Male            Yes\n",
              "3  Female            Yes\n",
              "4  Female            Yes\n",
              "5    Male            Yes\n",
              "6    Male             No\n",
              "7  Female             No\n",
              "8  Female             No"
            ]
          },
          "execution_count": 25,
          "metadata": {},
          "output_type": "execute_result"
        }
      ],
      "source": [
        "chi_df=pd.read_csv('https://raw.githubusercontent.com/yug95/MachineLearning/master/Hypothesis%20testing/chi-test.csv')\n",
        "chi_df"
      ]
    },
    {
      "cell_type": "code",
      "execution_count": 26,
      "metadata": {
        "colab": {
          "base_uri": "https://localhost:8080/",
          "height": 144
        },
        "id": "x1wyClNHt95l",
        "outputId": "68d7e4fd-8dfc-4511-9dd1-0cf1df821b08"
      },
      "outputs": [
        {
          "data": {
            "text/html": [
              "<div>\n",
              "<style scoped>\n",
              "    .dataframe tbody tr th:only-of-type {\n",
              "        vertical-align: middle;\n",
              "    }\n",
              "\n",
              "    .dataframe tbody tr th {\n",
              "        vertical-align: top;\n",
              "    }\n",
              "\n",
              "    .dataframe thead th {\n",
              "        text-align: right;\n",
              "    }\n",
              "</style>\n",
              "<table border=\"1\" class=\"dataframe\">\n",
              "  <thead>\n",
              "    <tr style=\"text-align: right;\">\n",
              "      <th>Like Shopping?</th>\n",
              "      <th>No</th>\n",
              "      <th>Yes</th>\n",
              "    </tr>\n",
              "    <tr>\n",
              "      <th>Gender</th>\n",
              "      <th></th>\n",
              "      <th></th>\n",
              "    </tr>\n",
              "  </thead>\n",
              "  <tbody>\n",
              "    <tr>\n",
              "      <th>Female</th>\n",
              "      <td>2</td>\n",
              "      <td>3</td>\n",
              "    </tr>\n",
              "    <tr>\n",
              "      <th>Male</th>\n",
              "      <td>2</td>\n",
              "      <td>2</td>\n",
              "    </tr>\n",
              "  </tbody>\n",
              "</table>\n",
              "</div>"
            ],
            "text/plain": [
              "Like Shopping?  No  Yes\n",
              "Gender                 \n",
              "Female           2    3\n",
              "Male             2    2"
            ]
          },
          "execution_count": 26,
          "metadata": {},
          "output_type": "execute_result"
        }
      ],
      "source": [
        "contingency_table=pd.crosstab(chi_df[\"Gender\"],chi_df[\"Like Shopping?\"])\n",
        "contingency_table"
      ]
    },
    {
      "cell_type": "code",
      "execution_count": 27,
      "metadata": {
        "colab": {
          "base_uri": "https://localhost:8080/"
        },
        "id": "o8hRDOjOt_QM",
        "outputId": "e46a7e42-2b3e-4ea4-a608-3b8bd5d30d72"
      },
      "outputs": [
        {
          "name": "stdout",
          "output_type": "stream",
          "text": [
            "p=1.000\n",
            "Probably independent\n"
          ]
        }
      ],
      "source": [
        "stat, p, dof, expected = stats.chi2_contingency(contingency_table)\n",
        "print('p=%.3f' % (p))\n",
        "if p > 0.05:\n",
        "    print('Probably independent')\n",
        "else:\n",
        "    print('Probably dependent')"
      ]
    }
  ],
  "metadata": {
    "colab": {
      "collapsed_sections": [],
      "name": "P0W3D3AM - Inferential Statistics.ipynb",
      "provenance": []
    },
    "kernelspec": {
      "display_name": "Python 3",
      "name": "python3"
    },
    "language_info": {
      "codemirror_mode": {
        "name": "ipython",
        "version": 3
      },
      "file_extension": ".py",
      "mimetype": "text/x-python",
      "name": "python",
      "nbconvert_exporter": "python",
      "pygments_lexer": "ipython3",
      "version": "3.9.7"
    }
  },
  "nbformat": 4,
  "nbformat_minor": 0
}
